{
 "cells": [
  {
   "cell_type": "code",
   "execution_count": 1,
   "metadata": {},
   "outputs": [],
   "source": [
    "#Here I'm making the csv file"
   ]
  },
  {
   "cell_type": "code",
   "execution_count": 3,
   "metadata": {},
   "outputs": [],
   "source": [
    "#path and making a list of all ligands\n",
    "path = \"/net/jam-amaro-shared/bccgc4/xtaldocking/PCA_docking_DONE\"\n",
    "\n",
    "ligands = [] #list of all ligands\n",
    "for k in range(1,460):\n",
    "    lig = 'CatS_'+str(k)\n",
    "    ligands.append(lig)\n",
    "    \n",
    "#print(ligands)"
   ]
  },
  {
   "cell_type": "code",
   "execution_count": 4,
   "metadata": {},
   "outputs": [
    {
     "name": "stdout",
     "output_type": "stream",
     "text": [
      "receptor_oebs/receptor8.oeb CatS_1 -7.121436595916748\n",
      "\n"
     ]
    }
   ],
   "source": [
    "min_lig = [] #list of ligands & their corresponding receptors with the minimum score\n",
    "for i in ligands:\n",
    "        lig = []\n",
    "        with open(path+\"/Docking_Results/score.txt\") as scores:\n",
    "            for line in scores:\n",
    "                if \" \"+i+\" \" in line:\n",
    "                    lig.append(line)\n",
    "        #print(lig)\n",
    "        nums = []\n",
    "        for l in lig:\n",
    "            if \"-\" in l:\n",
    "                index = l.find(\"-\")\n",
    "                nums.append(l[index:])\n",
    "            else:\n",
    "                ind = l.find(\"CatS_** \")\n",
    "                nums.append(l[ind:])\n",
    "        #print(nums)\n",
    "        min_score = max(nums) #I used max because it takes the largest magnitude\n",
    "        #print(min_score)\n",
    "        for l in lig:\n",
    "            if str(min_score) in l:\n",
    "                min_lig.append(l)\n",
    "print(min_lig[0])"
   ]
  },
  {
   "cell_type": "code",
   "execution_count": 5,
   "metadata": {},
   "outputs": [
    {
     "name": "stdout",
     "output_type": "stream",
     "text": [
      "459\n"
     ]
    }
   ],
   "source": [
    "numbers = [] #list of min scores\n",
    "for x in min_lig:\n",
    "    delete = x.find(\"\\n\")\n",
    "    new = x[:delete]\n",
    "    if \"-\" in new:\n",
    "        index = new.find(\"-\")\n",
    "        numbers.append(new[index:])\n",
    "    else:\n",
    "        ind = new.find(\"CatS_*** \")\n",
    "        print(new[ind:])\n",
    "        nums.append(new[ind:])\n",
    "\n",
    "numbers = [float(y) for y in numbers]\n",
    "#print(numbers)\n",
    "ordered_scores = sorted(numbers) #ordered scores \n",
    "print(len(ordered_scores))"
   ]
  },
  {
   "cell_type": "code",
   "execution_count": 8,
   "metadata": {},
   "outputs": [
    {
     "name": "stdout",
     "output_type": "stream",
     "text": [
      "receptor_oebs/receptor7.oeb CatS_410 -9.987778663635254\n",
      "\n"
     ]
    }
   ],
   "source": [
    "ordered_list = [] #list of receptor to ligand to score ordered by rank\n",
    "for o in ordered_scores:\n",
    "    for u in min_lig:\n",
    "        if str(o) in u:\n",
    "            ordered_list.append(u)\n",
    "print(ordered_list[0])"
   ]
  },
  {
   "cell_type": "code",
   "execution_count": 7,
   "metadata": {},
   "outputs": [],
   "source": [
    "import csv \n",
    "\n",
    "lig_rank_score = [] #list of lig to rank to score\n",
    "for e in range(0,459):\n",
    "    p = ordered_list[e]\n",
    "    sl = p.find(\"CatS_\")\n",
    "    delete = p.find(\"\\n\")\n",
    "    a = p[sl:delete]\n",
    "    \n",
    "    sli = a.find(\" -\")\n",
    "    cats = a.find(\"CatS_\")\n",
    "    sl = a.find(\"-\")\n",
    "    string = []\n",
    "    string.append(str(a[cats:sli]))\n",
    "    string.append(str(e+1))\n",
    "    string.append(str(a[sl:]))\n",
    "    #print(string)\n",
    "    lig_rank_score.append(string)\n",
    "\n",
    "\n",
    "with open('/net/jam-amaro-shared/bccgc4/Sub_Format/PCA_Sub/LigandScores.csv', 'w') as writeFile:\n",
    "    writer = csv.writer(writeFile)\n",
    "    writer.writerow(['Type: energy'])\n",
    "    writer.writerows(lig_rank_score)\n",
    "    \n",
    "writeFile.close()\n",
    "\n",
    "        "
   ]
  },
  {
   "cell_type": "code",
   "execution_count": 7,
   "metadata": {},
   "outputs": [],
   "source": [
    "#From here on I'm making the files for the PosePredictions dir"
   ]
  },
  {
   "cell_type": "code",
   "execution_count": 1,
   "metadata": {},
   "outputs": [
    {
     "ename": "NameError",
     "evalue": "name 'ordered_list' is not defined",
     "output_type": "error",
     "traceback": [
      "\u001b[0;31m---------------------------------------------------------------------------\u001b[0m",
      "\u001b[0;31mNameError\u001b[0m                                 Traceback (most recent call last)",
      "\u001b[0;32m<ipython-input-1-a9baf358201b>\u001b[0m in \u001b[0;36m<module>\u001b[0;34m()\u001b[0m\n\u001b[1;32m      9\u001b[0m \u001b[0;34m\u001b[0m\u001b[0m\n\u001b[1;32m     10\u001b[0m \u001b[0;32mfor\u001b[0m \u001b[0mz\u001b[0m \u001b[0;32min\u001b[0m \u001b[0mrange\u001b[0m\u001b[0;34m(\u001b[0m\u001b[0;36m0\u001b[0m\u001b[0;34m,\u001b[0m\u001b[0;36m459\u001b[0m\u001b[0;34m)\u001b[0m\u001b[0;34m:\u001b[0m\u001b[0;34m\u001b[0m\u001b[0m\n\u001b[0;32m---> 11\u001b[0;31m     \u001b[0mobj\u001b[0m \u001b[0;34m=\u001b[0m \u001b[0mordered_list\u001b[0m\u001b[0;34m[\u001b[0m\u001b[0mz\u001b[0m\u001b[0;34m]\u001b[0m\u001b[0;34m\u001b[0m\u001b[0m\n\u001b[0m\u001b[1;32m     12\u001b[0m \u001b[0;34m\u001b[0m\u001b[0m\n\u001b[1;32m     13\u001b[0m \u001b[0;34m\u001b[0m\u001b[0m\n",
      "\u001b[0;31mNameError\u001b[0m: name 'ordered_list' is not defined"
     ]
    }
   ],
   "source": [
    "#note!!! need to properly load openeye from cynthia's home directory, did this part in a separate Python Script\n",
    "\n",
    "import subprocess\n",
    "import os\n",
    "from openeye import oechem\n",
    "import glob\n",
    "\n",
    "path_receptors = '/net/jam-amaro-shared/bccgc4/xtaldocking/PCA_docking_DONE/receptor_pdbs_converted_from_oebs/'\n",
    "\n",
    "for z in range(0,459):\n",
    "    obj = ordered_list[z]\n",
    "    \n",
    "    \n",
    "    #making receptor pdbs\n",
    "    \n",
    "    begin = obj.find('/receptor')\n",
    "    end = obj.find('.oeb')\n",
    "    recep = obj[begin:end]\n",
    "    edit = recep.find('rec')\n",
    "    recep = recep[edit:]\n",
    "    #print(recep)\n",
    "    os.chdir(path_receptors)\n",
    "    subprocess.getoutput('cp '+recep+'.pdb '+'/net/jam-amaro-shared/bccgc4/Sub_Format/PCA_Sub/PosePredictions/5QC4-CatS_'+str(z+1)+'.pdb')\n",
    "\n",
    "\n",
    "#making ligand mols\n",
    "\n",
    "files=[]#list of paths to the correct poses \n",
    "for u in range(0,459):\n",
    "    obj = ordered_list[u]\n",
    "    begin = obj.find('/receptor')\n",
    "    end = obj.find(' -')\n",
    "    recep = obj[begin:end]\n",
    "    edit = recep.find('rec')\n",
    "    recep = recep[edit:] #receptor* CatS_*\n",
    "    cats = recep.find('.oeb')\n",
    "    catS = recep.find('CatS')\n",
    "    \n",
    "    string = '/net/jam-amaro-shared/bccgc4/xtaldocking/PCA_docking_DONE/ligand_poses_pdbs/Centroid'+ recep[8:cats]+'-'+recep[catS:]+'.pdb'\n",
    "    files.append(string)\n",
    "    \n",
    "print(files[0])\n",
    "    \n",
    "ifs=oechem.oemolistream()\n",
    "ofs=oechem.oemolostream()\n",
    "\n",
    "for i in files:\n",
    "    if ifs.open(i):\n",
    "        #print(i)\n",
    "        slic = i.find('CatS')\n",
    "        Ligand= i[slic:]\n",
    "        #print(Ligand)\n",
    "        Ligand=Ligand[:-4]\n",
    "        print(Ligand)\n",
    "            \n",
    "        #index=[x for x, s in enumerate(lig_rank_score) if str(Ligand) in s]\n",
    "        #print(index)\n",
    "        #index=index[0]+1\n",
    "        #print(index)\n",
    "        if ofs.open(\"/net/jam-amaro-shared/bccgc4/Sub_Format/PCA_Sub/PosePredictions/\"+\"5QC4-\"+str(Ligand)+\".mol\"):\n",
    "            for mol in ifs.GetOEGraphMols():\n",
    "                oechem.OEWriteMolecule(ofs, mol)\n",
    "        else:\n",
    "            oechem.OEThrow.Fatal(\"Unable to create output\")\n",
    "    else:\n",
    "        oechem.OEThrow.Fatal(\"Unable to open input\")\n"
   ]
  },
  {
   "cell_type": "code",
   "execution_count": null,
   "metadata": {},
   "outputs": [],
   "source": []
  }
 ],
 "metadata": {
  "kernelspec": {
   "display_name": "Python 3",
   "language": "python",
   "name": "python3"
  },
  "language_info": {
   "codemirror_mode": {
    "name": "ipython",
    "version": 3
   },
   "file_extension": ".py",
   "mimetype": "text/x-python",
   "name": "python",
   "nbconvert_exporter": "python",
   "pygments_lexer": "ipython3",
   "version": "3.6.6"
  }
 },
 "nbformat": 4,
 "nbformat_minor": 2
}
