{
 "cells": [
  {
   "cell_type": "code",
   "execution_count": 51,
   "metadata": {},
   "outputs": [
    {
     "name": "stdout",
     "output_type": "stream",
     "text": [
      "Populating the interactive namespace from numpy and matplotlib\n"
     ]
    }
   ],
   "source": [
    "import pyemma\n",
    "import glob\n",
    "import numpy as np\n",
    "import pyemma.plots as mplt\n",
    "%pylab inline\n",
    "import mdtraj as md\n",
    "import pyemma.coordinates as coor\n",
    " \n",
    "def average_by_state(dtraj, x, nstates):\n",
    "    assert(len(dtraj) == len(x))\n",
    "    N = len(dtraj)\n",
    "    res = np.zeros((nstates))\n",
    "    for i in range(nstates):\n",
    "        I = np.argwhere(dtraj == i)[:,0]\n",
    "        res[i] = np.mean(x[I])\n",
    "    return res\n",
    " \n",
    "def avg_by_set(x, sets):\n",
    "    # compute mean positions of sets. This is important because of some technical points the set order\n",
    "    # in the coarse-grained TPT object can be different from the input order.\n",
    "    avg = np.zeros(len(sets))\n",
    "    for i in range(len(sets)):\n",
    "        I = list(sets[i])\n",
    "        avg[i] = np.mean(x[I])\n",
    "    return avg"
   ]
  },
  {
   "cell_type": "code",
   "execution_count": 52,
   "metadata": {},
   "outputs": [
    {
     "name": "stdout",
     "output_type": "stream",
     "text": [
      "[['/net/jam-amaro-shared/bccgc4/CatSMD/md1/1.nc', '/net/jam-amaro-shared/bccgc4/CatSMD/md1/2.nc', '/net/jam-amaro-shared/bccgc4/CatSMD/md1/3.nc', '/net/jam-amaro-shared/bccgc4/CatSMD/md1/4.nc', '/net/jam-amaro-shared/bccgc4/CatSMD/md1/5.nc'], ['/net/jam-amaro-shared/bccgc4/CatSMD/md2/1.nc', '/net/jam-amaro-shared/bccgc4/CatSMD/md2/2.nc', '/net/jam-amaro-shared/bccgc4/CatSMD/md2/3.nc', '/net/jam-amaro-shared/bccgc4/CatSMD/md2/4.nc', '/net/jam-amaro-shared/bccgc4/CatSMD/md2/5.nc'], ['/net/jam-amaro-shared/bccgc4/CatSMD/md3/1.nc', '/net/jam-amaro-shared/bccgc4/CatSMD/md3/2.nc', '/net/jam-amaro-shared/bccgc4/CatSMD/md3/3.nc', '/net/jam-amaro-shared/bccgc4/CatSMD/md3/4.nc', '/net/jam-amaro-shared/bccgc4/CatSMD/md3/5.nc'], ['/net/jam-amaro-shared/bccgc4/CatSMD/md4/1.nc', '/net/jam-amaro-shared/bccgc4/CatSMD/md4/2.nc', '/net/jam-amaro-shared/bccgc4/CatSMD/md4/3.nc', '/net/jam-amaro-shared/bccgc4/CatSMD/md4/4.nc', '/net/jam-amaro-shared/bccgc4/CatSMD/md4/5.nc'], ['/net/jam-amaro-shared/bccgc4/CatSMD/md5/1.nc', '/net/jam-amaro-shared/bccgc4/CatSMD/md5/2.nc', '/net/jam-amaro-shared/bccgc4/CatSMD/md5/3.nc', '/net/jam-amaro-shared/bccgc4/CatSMD/md5/4.nc', '/net/jam-amaro-shared/bccgc4/CatSMD/md5/5.nc']]\n",
      "['RES_DIST (closest-heavy) PHE146 - TRP187', 'RES_DIST (closest-heavy) GLU116 - SER136', 'RES_DIST (closest-heavy) ARG142 - HIS143', 'RES_DIST (closest-heavy) PHE71 - PHE212', 'RES_DIST (closest-heavy) TRP27 - PHE29', 'RES_DIST (closest-heavy) LEU117 - TRP187', 'RES_DIST (closest-heavy) ASN64 - THR160', 'RES_DIST (closest-heavy) TYR119 - GLN20', 'RES_DIST (closest-heavy) PRO216 - PHE191', 'RES_DIST (closest-heavy) GLY24 - PHE146', 'RES_DIST (closest-heavy) TYR114 - TYR119']\n",
      "<pyemma.coordinates.data.fragmented_trajectory_reader.FragmentedTrajectoryReader object at 0x7f1d2887e400>\n",
      "trajectory length =  90000\n",
      "number of dimension =  11\n"
     ]
    }
   ],
   "source": [
    "#Makes a list of nested lists for 5 mds, and 5 .nc files in each\n",
    "trajfile = []\n",
    "for i in range(1,6):\n",
    "    nc_list = []\n",
    "    for k in range(1,6):\n",
    "        path = \"/net/jam-amaro-shared/bccgc4/CatSMD/md\"+str(i)+\"/\"+str(k)+\".nc\"\n",
    "        nc_list.append(path)\n",
    "    trajfile.append(nc_list)\n",
    "    \n",
    "#print(trajfile)\n",
    "\n",
    "#assigns the features\n",
    "feat = coor.featurizer(\"/net/jam-amaro-shared/bccgc4/CatSMD/md1/system.prmtop\")\n",
    "feat.add_residue_mindist([[146,187],[116,136],[142,143],[71,212],[27,29],[117,187],[64,160],[119,20],[216,191],[24,146],[114,119]], scheme=\"closest-heavy\")\n",
    "print(feat.describe()[:13])\n",
    "#selecting distances at minimum & closest heavy atoms\n",
    "    \n",
    "#feat.add_minrmsd_to_ref(traj[0])\n",
    "inp = coor.source(trajfile, feat)\n",
    "print(inp)\n",
    "print('trajectory length = ',inp.trajectory_length(0))\n",
    "print('number of dimension = ',inp.dimension())\n",
    "  \n",
    "\n"
   ]
  },
  {
   "cell_type": "code",
   "execution_count": 66,
   "metadata": {},
   "outputs": [
    {
     "data": {
      "application/vnd.jupyter.widget-view+json": {
       "model_id": "4c16276aed4b4cf18078ea2b492b9fcc",
       "version_major": 2,
       "version_minor": 0
      },
      "text/plain": [
       "HBox(children=(HBox(children=(Label(value='calculate covariances'),), layout=Layout(max_width='35%', min_width…"
      ]
     },
     "metadata": {},
     "output_type": "display_data"
    },
    {
     "name": "stdout",
     "output_type": "stream",
     "text": []
    },
    {
     "data": {
      "application/vnd.jupyter.widget-view+json": {
       "model_id": "807907bafc744624b9973d8a0fc128a3",
       "version_major": 2,
       "version_minor": 0
      },
      "text/plain": [
       "HBox(children=(HBox(children=(Label(value='getting output of TICA'),), layout=Layout(max_width='35%', min_widt…"
      ]
     },
     "metadata": {},
     "output_type": "display_data"
    },
    {
     "name": "stdout",
     "output_type": "stream",
     "text": []
    },
    {
     "ename": "AttributeError",
     "evalue": "'list' object has no attribute 'shape'",
     "output_type": "error",
     "traceback": [
      "\u001b[0;31m---------------------------------------------------------------------------\u001b[0m",
      "\u001b[0;31mAttributeError\u001b[0m                            Traceback (most recent call last)",
      "\u001b[0;32m<ipython-input-66-02c617ceadfa>\u001b[0m in \u001b[0;36m<module>\u001b[0;34m()\u001b[0m\n\u001b[1;32m      4\u001b[0m \u001b[0;31m# have a list of trajectories, so we just get the first element.\u001b[0m\u001b[0;34m\u001b[0m\u001b[0;34m\u001b[0m\u001b[0m\n\u001b[1;32m      5\u001b[0m \u001b[0mY\u001b[0m \u001b[0;34m=\u001b[0m \u001b[0mtica_obj\u001b[0m\u001b[0;34m.\u001b[0m\u001b[0mget_output\u001b[0m\u001b[0;34m(\u001b[0m\u001b[0;34m)\u001b[0m\u001b[0;34m\u001b[0m\u001b[0m\n\u001b[0;32m----> 6\u001b[0;31m \u001b[0mprint\u001b[0m\u001b[0;34m(\u001b[0m\u001b[0;34m'Projected data shape = '\u001b[0m\u001b[0;34m,\u001b[0m \u001b[0mY\u001b[0m\u001b[0;34m.\u001b[0m\u001b[0mshape\u001b[0m\u001b[0;34m)\u001b[0m\u001b[0;34m\u001b[0m\u001b[0m\n\u001b[0m\u001b[1;32m      7\u001b[0m \u001b[0;34m\u001b[0m\u001b[0m\n\u001b[1;32m      8\u001b[0m \u001b[0mprint\u001b[0m\u001b[0;34m(\u001b[0m\u001b[0;34m'Mean values: '\u001b[0m\u001b[0;34m,\u001b[0m \u001b[0mnp\u001b[0m\u001b[0;34m.\u001b[0m\u001b[0mmean\u001b[0m\u001b[0;34m(\u001b[0m\u001b[0mY\u001b[0m\u001b[0;34m,\u001b[0m \u001b[0maxis\u001b[0m\u001b[0;34m=\u001b[0m\u001b[0;36m0\u001b[0m\u001b[0;34m)\u001b[0m\u001b[0;34m)\u001b[0m\u001b[0;34m\u001b[0m\u001b[0m\n",
      "\u001b[0;31mAttributeError\u001b[0m: 'list' object has no attribute 'shape'"
     ]
    }
   ],
   "source": [
    "lag=1000\n",
    "tica_obj = coor.tica(inp, lag=lag, var_cutoff=0.95, kinetic_map=False)\n",
    "# here we get the data that has been projected onto the first 2 IC's. It's a list, because we could generally\n",
    "# have a list of trajectories, so we just get the first element.\n",
    "Y = tica_obj.get_output()\n",
    "print('Projected data shape = ', Y.shape)\n",
    "\n",
    "print('Mean values: ', np.mean(Y, axis=0))\n",
    "print('Variances:   ', np.var(Y, axis=0))\n",
    "print(-lag/np.log(tica_obj.eigenvalues[:5]))\n",
    " \n",
    "# histogram data\n",
    "z,x,y = np.histogram2d(Y[:,0],Y[:,1], bins=50)\n",
    "# compute free energies\n",
    "F = -np.log(z)\n",
    "# contour plot\n",
    "extent = [x[0], x[-1], y[0], y[-1]]\n",
    "contourf(F.T, 50, cmap=plt.cm.hot, extent=extent)\n",
    "\n",
    "#making clusters from kmeans\n",
    "cl = coor.cluster_kmeans(data=Y,k=10)\n",
    "\n",
    "#cl=coor.cluster_uniform_time(data=Y, )\n",
    "# for later use we save the discretetrajectories (dtrajs) and cluster center coordinates:\n",
    "dtrajs = cl.dtrajs\n",
    "cc_x = cl.clustercenters[:,0]\n",
    "cc_y = cl.clustercenters[:,1]\n",
    " \n",
    "#plotting out the results and clustercenters \n",
    "contourf(F.T, 50, cmap=plt.cm.hot, extent=extent)\n",
    "plot(cc_x,cc_y, linewidth=0, marker='o')\n",
    " \n",
    "print(dtrajs)\n",
    "print(np.size(dtrajs))\n"
   ]
  },
  {
   "cell_type": "code",
   "execution_count": 67,
   "metadata": {},
   "outputs": [
    {
     "data": {
      "application/vnd.jupyter.widget-view+json": {
       "model_id": "ac6e2e1316fe49d9ac076a59cb6634ac",
       "version_major": 2,
       "version_minor": 0
      },
      "text/plain": [
       "HBox(children=(HBox(children=(Label(value='initialize kmeans++ centers'),), layout=Layout(max_width='35%', min…"
      ]
     },
     "metadata": {},
     "output_type": "display_data"
    },
    {
     "data": {
      "application/vnd.jupyter.widget-view+json": {
       "model_id": "52a9071ef6cb4b8680213558506b57b8",
       "version_major": 2,
       "version_minor": 0
      },
      "text/plain": [
       "HBox(children=(HBox(children=(Label(value='kmeans iterations'),), layout=Layout(max_width='35%', min_width='35…"
      ]
     },
     "metadata": {},
     "output_type": "display_data"
    },
    {
     "name": "stdout",
     "output_type": "stream",
     "text": []
    },
    {
     "name": "stdout",
     "output_type": "stream",
     "text": [
      "10-11-18 21:39:37 pyemma.coordinates.clustering.kmeans.KmeansClustering[76] WARNING  Algorithm did not reach convergence criterion of 1e-05 in 10 iterations. Consider increasing max_iter.\n"
     ]
    },
    {
     "data": {
      "application/vnd.jupyter.widget-view+json": {
       "model_id": "1a6b4f0ce73445f3baaf4367a82e32d2",
       "version_major": 2,
       "version_minor": 0
      },
      "text/plain": [
       "HBox(children=(HBox(children=(Label(value='getting output of KmeansClustering'),), layout=Layout(max_width='35…"
      ]
     },
     "metadata": {},
     "output_type": "display_data"
    },
    {
     "name": "stdout",
     "output_type": "stream",
     "text": [
      "[array([0, 0, 0, ..., 8, 8, 5], dtype=int32), array([0, 0, 0, ..., 7, 7, 1], dtype=int32), array([0, 0, 0, ..., 6, 6, 6], dtype=int32), array([0, 0, 0, ..., 8, 2, 2], dtype=int32), array([0, 0, 0, ..., 6, 5, 9], dtype=int32)]\n",
      "450000\n"
     ]
    },
    {
     "data": {
      "image/png": "[encoded data removed]",
      "text/plain": [
       "<Figure size 432x288 with 1 Axes>"
      ]
     },
     "metadata": {
      "needs_background": "light"
     },
     "output_type": "display_data"
    }
   ],
   "source": [
    "cl = coor.cluster_kmeans(data=Y,k=10)\n",
    "\n",
    "#cl=coor.cluster_uniform_time(data=Y, )\n",
    "# for later use we save the discretetrajectories (dtrajs) and cluster center coordinates:\n",
    "dtrajs = cl.dtrajs\n",
    "cc_x = cl.clustercenters[:,0]\n",
    "cc_y = cl.clustercenters[:,1]\n",
    " \n",
    "#plotting out the results and clustercenters \n",
    "contourf(F.T, 50, cmap=plt.cm.hot, extent=extent)\n",
    "plot(cc_x,cc_y, linewidth=0, marker='o')\n",
    " \n",
    "print(dtrajs)\n",
    "print(np.size(dtrajs))"
   ]
  },
  {
   "cell_type": "code",
   "execution_count": 69,
   "metadata": {},
   "outputs": [
    {
     "name": "stdout",
     "output_type": "stream",
     "text": [
      "[-1.477317    0.46967688  1.3487787  -1.0906587  -0.78296345  0.654191\n",
      " -0.26333734 -0.20036615  1.33917     0.4688478 ]\n",
      "[ 0.4292571  -0.3879486   0.6676682   0.5185451   1.3539321  -0.03853653\n",
      " -1.2127491  -1.386519    0.68939865 -0.40003198]\n"
     ]
    },
    {
     "data": {
      "image/png": "[encoded data removed]",
      "text/plain": [
       "<Figure size 432x288 with 2 Axes>"
      ]
     },
     "metadata": {
      "needs_background": "light"
     },
     "output_type": "display_data"
    }
   ],
   "source": [
    "#plots free energy diagram\n",
    "fig, axes= mplt.plot_free_energy(np.vstack(Y)[:,0], np.vstack(Y)[:,1])\n",
    "cc_x = cl.clustercenters[:,0]\n",
    "cc_y = cl.clustercenters[:,1]\n",
    "plot(cc_x,cc_y, linewidth=0, marker='o', markersize=5, color='black')\n",
    "title(\"CatS TICA Cluster Centroids\" )\n",
    "\n",
    "fig.savefig(\"tica_FE.png\", dpi = 100)\n",
    "\n",
    "print(cc_x)\n",
    "print(cc_y)"
   ]
  },
  {
   "cell_type": "code",
   "execution_count": 70,
   "metadata": {},
   "outputs": [
    {
     "data": {
      "text/plain": [
       "array([[-7.87387408e-02, -3.68212266e-02, -2.35290772e-03],\n",
       "       [-3.76031836e-02,  5.99394478e-04,  3.38061107e-02],\n",
       "       [-6.46345438e-03, -1.96376026e-03, -2.17023188e-03],\n",
       "       [-8.00493419e-01,  5.78973509e-01,  6.27073917e-02],\n",
       "       [ 8.10931749e-02,  6.79184138e-02,  2.74853845e-02],\n",
       "       [-1.11191129e-02,  1.14119456e-02,  3.37291436e-02],\n",
       "       [ 6.22111594e-01,  7.36973140e-01,  4.36155321e-02],\n",
       "       [ 1.47632245e-01, -2.81385849e-01, -1.03837994e-01],\n",
       "       [-9.18043855e-02, -9.94803241e-02,  3.66813226e-02],\n",
       "       [-1.95983013e-01, -1.36016416e-01,  1.30610116e-02],\n",
       "       [ 7.38214829e-02, -9.03526272e-03,  9.86100963e-01]])"
      ]
     },
     "execution_count": 70,
     "metadata": {},
     "output_type": "execute_result"
    }
   ],
   "source": [
    "#This tells us how much each feature contributes to each TIC\n",
    "tica_obj.feature_TIC_correlation"
   ]
  },
  {
   "cell_type": "code",
   "execution_count": 71,
   "metadata": {},
   "outputs": [
    {
     "data": {
      "text/plain": [
       "array([0.62313897, 0.86850045, 0.97029445, 0.98760017, 0.99341148,\n",
       "       0.99699391, 0.99849689, 0.99953202, 0.99997108, 0.99999433,\n",
       "       1.        ])"
      ]
     },
     "execution_count": 71,
     "metadata": {},
     "output_type": "execute_result"
    }
   ],
   "source": [
    "#This tells us the number of TICs TICA produces to retain the variance we want, which is .95\n",
    "tica_obj.cumvar"
   ]
  },
  {
   "cell_type": "code",
   "execution_count": 73,
   "metadata": {},
   "outputs": [
    {
     "name": "stdout",
     "output_type": "stream",
     "text": [
      "[array([0, 0, 0, ..., 8, 8, 5], dtype=int32), array([0, 0, 0, ..., 7, 7, 1], dtype=int32), array([0, 0, 0, ..., 6, 6, 6], dtype=int32), array([0, 0, 0, ..., 8, 2, 2], dtype=int32), array([0, 0, 0, ..., 6, 5, 9], dtype=int32)]\n"
     ]
    }
   ],
   "source": [
    "#This prints the discrete trajectories we saved out before, then prints the maximum of them...\n",
    "print(dtrajs)\n",
    "#dtraj=max(dtrajs)\n",
    "#print(dtraj)"
   ]
  },
  {
   "cell_type": "code",
   "execution_count": null,
   "metadata": {},
   "outputs": [],
   "source": [
    "#From here on it's clustering and extracting centroids, as well as saving out the centroid coords"
   ]
  },
  {
   "cell_type": "code",
   "execution_count": null,
   "metadata": {},
   "outputs": [],
   "source": [
    "#makes dictionary for each cluster and frames in each cluster\n",
    "Clusters={}\n",
    "\n",
    "for count in range(0,10):\n",
    "    frames=[]\n",
    "    indices = [d for d, x in enumerate(dtraj) if x == count]\n",
    "    frames.append(indices)\n",
    "    Clusters[count]=frames\n",
    "#print(Clusters)\n",
    "\n",
    "traj=md.load(\"/net/jam-amaro-shared/bccgc4/Strided_Traj/joined_traj_all.xtc\", top=\"/net/jam-amaro-shared/bccgc4/Strided_Traj/system.prmtop\")\n",
    "\n",
    "#makes .xtc's out of each cluster\n",
    "for key in Clusters:\n",
    "    print(key)\n",
    "    a=traj[Clusters[key]]\n",
    "    print(a)\n",
    "    a.save_xtc('cluster_trajs/Trajcluster_all'+str(key)+\".xtc\")"
   ]
  },
  {
   "cell_type": "code",
   "execution_count": null,
   "metadata": {},
   "outputs": [],
   "source": [
    "#saving cluster centroids as pdbs for 10 clusters\n",
    "avg = [100, 100, 100, 100, 100, 100, 100, 100, 100, 100]\n",
    "indices = np.zeros(10)\n",
    "for i in range(len(Y)):\n",
    "    c = cl.clustercenters[cl.dtrajs[0][i]]\n",
    "    \n",
    "    v = Y[i]\n",
    "    \n",
    "    newavg = np.linalg.norm(c-v)\n",
    "   \n",
    "    if avg[cl.dtrajs[0][i]] > newavg:\n",
    "        avg[cl.dtrajs[0][i]] = newavg\n",
    "        indices[cl.dtrajs[0][i]] = i\n",
    "        \n",
    "print(avg)\n",
    "print(indices)\n",
    "\n",
    "traj=md.load(\"/net/jam-amaro-shared/bccgc4/Strided_Traj/joined_traj_all.xtc\", top=\"/net/jam-amaro-shared/bccgc4/Strided_Traj/system.prmtop\")\n",
    "\n",
    "for i in range(len(avg)):\n",
    "    traj[i].save_pdb('rep_struct/testing_pdb_res%s.pdb' % i)"
   ]
  },
  {
   "cell_type": "code",
   "execution_count": null,
   "metadata": {},
   "outputs": [],
   "source": [
    "import glob\n",
    "\n",
    "path=\"/home/jegan/Documents/TICA/*.xtc\"\n",
    "\n",
    "files=glob.glob(path)\n",
    "\n",
    "print(files)"
   ]
  },
  {
   "cell_type": "code",
   "execution_count": 49,
   "metadata": {},
   "outputs": [],
   "source": [
    "#writing a string to select the features in vmd\n",
    "poc = [[146,187],[116,136],[142,143],[71,212],[27,29],[117,187],[64,160],[119,20],[216,191],[24,146],[114,119]]\n",
    "\n",
    "pock = []\n",
    "for i in poc:\n",
    "    for k in i:\n",
    "        phrase = \"resid \"+str(k)+\" or \"\n",
    "        pock.append(phrase)\n",
    "\n",
    "f= open(\"vmd_poc_string.txt\", \"w+\")\n",
    "\n",
    "for y in pock:\n",
    "    f.write(y)\n",
    "    \n",
    "f.close()\n",
    "    "
   ]
  },
  {
   "cell_type": "code",
   "execution_count": null,
   "metadata": {},
   "outputs": [],
   "source": []
  }
 ],
 "metadata": {
  "kernelspec": {
   "display_name": "Python 3",
   "language": "python",
   "name": "python3"
  },
  "language_info": {
   "codemirror_mode": {
    "name": "ipython",
    "version": 3
   },
   "file_extension": ".py",
   "mimetype": "text/x-python",
   "name": "python",
   "nbconvert_exporter": "python",
   "pygments_lexer": "ipython3",
   "version": "3.6.6"
  }
 },
 "nbformat": 4,
 "nbformat_minor": 2
}
