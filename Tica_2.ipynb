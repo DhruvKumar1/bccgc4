{
 "cells": [
  {
   "cell_type": "code",
   "execution_count": 1,
   "metadata": {},
   "outputs": [
    {
     "name": "stdout",
     "output_type": "stream",
     "text": [
      "Populating the interactive namespace from numpy and matplotlib\n"
     ]
    }
   ],
   "source": [
    "import pyemma\n",
    "import glob\n",
    "import numpy as np\n",
    "import pyemma.plots as mplt\n",
    "%pylab inline\n",
    "import mdtraj as md\n",
    "import pyemma.coordinates as coor\n",
    " \n",
    "def average_by_state(dtraj, x, nstates):\n",
    "    assert(len(dtraj) == len(x))\n",
    "    N = len(dtraj)\n",
    "    res = np.zeros((nstates))\n",
    "    for i in range(nstates):\n",
    "        I = np.argwhere(dtraj == i)[:,0]\n",
    "        res[i] = np.mean(x[I])\n",
    "    return res\n",
    " \n",
    "def avg_by_set(x, sets):\n",
    "    # compute mean positions of sets. This is important because of some technical points the set order\n",
    "    # in the coarse-grained TPT object can be different from the input order.\n",
    "    avg = np.zeros(len(sets))\n",
    "    for i in range(len(sets)):\n",
    "        I = list(sets[i])\n",
    "        avg[i] = np.mean(x[I])\n",
    "    return avg"
   ]
  },
  {
   "cell_type": "code",
   "execution_count": 27,
   "metadata": {},
   "outputs": [
    {
     "name": "stdout",
     "output_type": "stream",
     "text": [
      "[['/net/jam-amaro-shared/bccgc4/CatSMD/md1/1.nc', '/net/jam-amaro-shared/bccgc4/CatSMD/md1/2.nc', '/net/jam-amaro-shared/bccgc4/CatSMD/md1/3.nc', '/net/jam-amaro-shared/bccgc4/CatSMD/md1/4.nc'], ['/net/jam-amaro-shared/bccgc4/CatSMD/md2/1.nc', '/net/jam-amaro-shared/bccgc4/CatSMD/md2/2.nc', '/net/jam-amaro-shared/bccgc4/CatSMD/md2/3.nc', '/net/jam-amaro-shared/bccgc4/CatSMD/md2/4.nc'], ['/net/jam-amaro-shared/bccgc4/CatSMD/md3/1.nc', '/net/jam-amaro-shared/bccgc4/CatSMD/md3/2.nc', '/net/jam-amaro-shared/bccgc4/CatSMD/md3/3.nc', '/net/jam-amaro-shared/bccgc4/CatSMD/md3/4.nc'], ['/net/jam-amaro-shared/bccgc4/CatSMD/md4/1.nc', '/net/jam-amaro-shared/bccgc4/CatSMD/md4/2.nc', '/net/jam-amaro-shared/bccgc4/CatSMD/md4/3.nc', '/net/jam-amaro-shared/bccgc4/CatSMD/md4/4.nc'], ['/net/jam-amaro-shared/bccgc4/CatSMD/md5/1.nc', '/net/jam-amaro-shared/bccgc4/CatSMD/md5/2.nc', '/net/jam-amaro-shared/bccgc4/CatSMD/md5/3.nc', '/net/jam-amaro-shared/bccgc4/CatSMD/md5/4.nc']]\n"
     ]
    }
   ],
   "source": [
    "#There's 5 mds, and 4 .nc files in each\n",
    "\n",
    "trajlist = []\n",
    "for i in range(1,6):\n",
    "    nc_list = []\n",
    "    for k in range(1,5):\n",
    "        path = \"/net/jam-amaro-shared/bccgc4/CatSMD/md\"+str(i)+\"/\"+str(k)+\".nc\"\n",
    "        nc_list.append(path)\n",
    "    trajlist.append(nc_list)\n",
    "\n",
    "print(trajlist)\n",
    "    "
   ]
  },
  {
   "cell_type": "code",
   "execution_count": 29,
   "metadata": {},
   "outputs": [
    {
     "name": "stdout",
     "output_type": "stream",
     "text": [
      "['RES_DIST (closest-heavy) PHE146 - TRP187', 'RES_DIST (closest-heavy) GLU116 - SER136', 'RES_DIST (closest-heavy) ARG142 - HIS143', 'RES_DIST (closest-heavy) PHE71 - PHE212', 'RES_DIST (closest-heavy) TRP27 - PHE29', 'RES_DIST (closest-heavy) LEU117 - TRP187', 'RES_DIST (closest-heavy) ASN64 - THR160', 'RES_DIST (closest-heavy) TYR119 - GLN20', 'RES_DIST (closest-heavy) PRO216 - PHE191', 'RES_DIST (closest-heavy) GLY24 - PHE146', 'RES_DIST (closest-heavy) TYR114 - TYR119']\n",
      "<pyemma.coordinates.data.fragmented_trajectory_reader.FragmentedTrajectoryReader object at 0x7f1d288c0128>\n",
      "trajectory length =  70000\n",
      "number of dimension =  11\n"
     ]
    }
   ],
   "source": [
    "\n",
    "trajfile=[['/net/jam-amaro-shared/bccgc4/CatSMD/md1/1.nc', '/net/jam-amaro-shared/bccgc4/CatSMD/md1/2.nc', '/net/jam-amaro-shared/bccgc4/CatSMD/md1/3.nc', '/net/jam-amaro-shared/bccgc4/CatSMD/md1/4.nc'], ['/net/jam-amaro-shared/bccgc4/CatSMD/md2/1.nc', '/net/jam-amaro-shared/bccgc4/CatSMD/md2/2.nc', '/net/jam-amaro-shared/bccgc4/CatSMD/md2/3.nc', '/net/jam-amaro-shared/bccgc4/CatSMD/md2/4.nc'], ['/net/jam-amaro-shared/bccgc4/CatSMD/md3/1.nc', '/net/jam-amaro-shared/bccgc4/CatSMD/md3/2.nc', '/net/jam-amaro-shared/bccgc4/CatSMD/md3/3.nc', '/net/jam-amaro-shared/bccgc4/CatSMD/md3/4.nc'], ['/net/jam-amaro-shared/bccgc4/CatSMD/md4/1.nc', '/net/jam-amaro-shared/bccgc4/CatSMD/md4/2.nc', '/net/jam-amaro-shared/bccgc4/CatSMD/md4/3.nc', '/net/jam-amaro-shared/bccgc4/CatSMD/md4/4.nc'], ['/net/jam-amaro-shared/bccgc4/CatSMD/md5/1.nc', '/net/jam-amaro-shared/bccgc4/CatSMD/md5/2.nc', '/net/jam-amaro-shared/bccgc4/CatSMD/md5/3.nc', '/net/jam-amaro-shared/bccgc4/CatSMD/md5/4.nc']]\n",
    "\n",
    "feat = coor.featurizer(\"/net/jam-amaro-shared/bccgc4/CatSMD/md1/system.prmtop\")\n",
    "feat.add_residue_mindist([[146,187],[116,136],[142,143],[71,212],[27,29],[117,187],[64,160],[119,20],[216,191],[24,146],[114,119]], scheme=\"closest-heavy\")\n",
    "print(feat.describe()[:13])\n",
    "#selecting distances at minimum\n",
    "    \n",
    "#feat.add_minrmsd_to_ref(traj[0])\n",
    "inp = coor.source(trajfile, feat)\n",
    "print(inp)\n",
    "print('trajectory length = ',inp.trajectory_length(0))\n",
    "print('number of dimension = ',inp.dimension())\n",
    "  \n",
    "\n"
   ]
  },
  {
   "cell_type": "code",
   "execution_count": 12,
   "metadata": {},
   "outputs": [
    {
     "name": "stdout",
     "output_type": "stream",
     "text": [
      "05-11-18 15:07:12 pyemma.coordinates.data.featurization.featurizer.MDFeaturizer[5] WARNING  tried to re-add the same feature ResidueMinDistanceFeature\n",
      "['RES_DIST (closest-heavy) PHE146 - TRP187', 'RES_DIST (closest-heavy) GLU116 - SER136', 'RES_DIST (closest-heavy) ARG142 - HIS143', 'RES_DIST (closest-heavy) PHE71 - PHE212', 'RES_DIST (closest-heavy) TRP27 - PHE29', 'RES_DIST (closest-heavy) LEU117 - TRP187', 'RES_DIST (closest-heavy) ASN64 - THR160', 'RES_DIST (closest-heavy) TYR119 - GLN20', 'RES_DIST (closest-heavy) PRO216 - PHE191', 'RES_DIST (closest-heavy) GLY24 - PHE146', 'RES_DIST (closest-heavy) TYR114 - TYR119', 'minrmsd to frame 0 of <mdtraj.Trajectory with 1 frames, 3324 atoms, 220 residues, and unitcells at 0x7f1d32b000f0>']\n"
     ]
    }
   ],
   "source": [
    "#feat = coor.featurizer(traj.topology)\n",
    "#feat.add_residue_mindist([[146,187],[116,136],[142,143],[71,212],[27,29],[117,187],[64,160],[119,20],[216,191],[24,146],[114,119]], scheme=\"closest-heavy\")\n",
    "#print(feat.describe()[:13])\n",
    "#selecting distances at minimum"
   ]
  },
  {
   "cell_type": "code",
   "execution_count": 5,
   "metadata": {},
   "outputs": [
    {
     "name": "stdout",
     "output_type": "stream",
     "text": [
      "<pyemma.coordinates.data.feature_reader.FeatureReader object at 0x7f1d32b17710>\n",
      "trajectory length =  350000\n",
      "number of dimension =  12\n"
     ]
    }
   ],
   "source": [
    "#feat.add_minrmsd_to_ref(traj[0])\n",
    "#inp = coor.source(trajfile, feat)\n",
    "#print(inp)\n",
    "#print('trajectory length = ',inp.trajectory_length(0))\n",
    "#print('number of dimension = ',inp.dimension())"
   ]
  },
  {
   "cell_type": "code",
   "execution_count": 31,
   "metadata": {},
   "outputs": [
    {
     "data": {
      "application/vnd.jupyter.widget-view+json": {
       "model_id": "b14a4305bcd04bf585efbb24dcf13494",
       "version_major": 2,
       "version_minor": 0
      },
      "text/plain": [
       "HBox(children=(HBox(children=(Label(value='calculate covariances'),), layout=Layout(max_width='35%', min_width…"
      ]
     },
     "metadata": {},
     "output_type": "display_data"
    },
    {
     "name": "stdout",
     "output_type": "stream",
     "text": []
    },
    {
     "data": {
      "application/vnd.jupyter.widget-view+json": {
       "model_id": "28508cbf1a5146edbbea3216b17685ff",
       "version_major": 2,
       "version_minor": 0
      },
      "text/plain": [
       "HBox(children=(HBox(children=(Label(value='getting output of TICA'),), layout=Layout(max_width='35%', min_widt…"
      ]
     },
     "metadata": {},
     "output_type": "display_data"
    },
    {
     "name": "stdout",
     "output_type": "stream",
     "text": [
      "Projected data shape =  (70000, 3)\n",
      "Mean values:  [ 0.08899888 -0.4172458  -0.04923635]\n",
      "Variances:    [0.7068965 0.8158651 0.6323019]\n",
      "[1773.31242523  940.14189642  742.47832222  401.40383198  363.30390338]\n"
     ]
    },
    {
     "name": "stderr",
     "output_type": "stream",
     "text": [
      "/opt/anaconda3/lib/python3.6/site-packages/ipykernel_launcher.py:15: RuntimeWarning: divide by zero encountered in log\n",
      "  from ipykernel import kernelapp as app\n"
     ]
    },
    {
     "data": {
      "application/vnd.jupyter.widget-view+json": {
       "model_id": "7442ef5a4a8d456aa2d1d3590530d757",
       "version_major": 2,
       "version_minor": 0
      },
      "text/plain": [
       "HBox(children=(HBox(children=(Label(value='initialize kmeans++ centers'),), layout=Layout(max_width='35%', min…"
      ]
     },
     "metadata": {},
     "output_type": "display_data"
    },
    {
     "data": {
      "application/vnd.jupyter.widget-view+json": {
       "model_id": "83bb22c208aa4dd5accac0d0098321ee",
       "version_major": 2,
       "version_minor": 0
      },
      "text/plain": [
       "HBox(children=(HBox(children=(Label(value='kmeans iterations'),), layout=Layout(max_width='35%', min_width='35…"
      ]
     },
     "metadata": {},
     "output_type": "display_data"
    },
    {
     "name": "stdout",
     "output_type": "stream",
     "text": []
    },
    {
     "name": "stdout",
     "output_type": "stream",
     "text": [
      "05-11-18 22:21:36 pyemma.coordinates.clustering.kmeans.KmeansClustering[42] WARNING  Algorithm did not reach convergence criterion of 1e-05 in 10 iterations. Consider increasing max_iter.\n",
      "[array([14, 14, 14, ...,  5,  2, 13], dtype=int32)]\n",
      "70000\n"
     ]
    },
    {
     "data": {
      "image/png": "[encoded data removed]",
      "text/plain": [
       "<Figure size 432x288 with 1 Axes>"
      ]
     },
     "metadata": {
      "needs_background": "light"
     },
     "output_type": "display_data"
    }
   ],
   "source": [
    "lag=1000\n",
    "tica_obj = coor.tica(inp, lag=lag, var_cutoff=0.95, kinetic_map=False)\n",
    "# here we get the data that has been projected onto the first 2 IC's. It's a list, because we could generally\n",
    "# have a list of trajectories, so we just get the first element.\n",
    "Y = tica_obj.get_output()[0]\n",
    "print('Projected data shape = ', Y.shape)\n",
    "\n",
    "print('Mean values: ', np.mean(Y, axis=0))\n",
    "print('Variances:   ', np.var(Y, axis=0))\n",
    "print(-lag/np.log(tica_obj.eigenvalues[:5]))\n",
    " \n",
    "# histogram data\n",
    "z,x,y = np.histogram2d(Y[:,0],Y[:,1], bins=50)\n",
    "# compute free energies\n",
    "F = -np.log(z)\n",
    "# contour plot\n",
    "extent = [x[0], x[-1], y[0], y[-1]]\n",
    "contourf(F.T, 50, cmap=plt.cm.hot, extent=extent)\n",
    "\n",
    "cl = coor.cluster_kmeans(data=Y,k=20)\n",
    "\n",
    "#cl=coor.cluster_uniform_time(data=Y, )\n",
    "# for later use we save the discretetrajectories and cluster center coordinates:\n",
    "dtrajs = cl.dtrajs\n",
    "cc_x = cl.clustercenters[:,0]\n",
    "cc_y = cl.clustercenters[:,1]\n",
    " \n",
    " \n",
    "contourf(F.T, 50, cmap=plt.cm.hot, extent=extent)\n",
    "plot(cc_x,cc_y, linewidth=0, marker='o')\n",
    " \n",
    "print(dtrajs)\n",
    "print(np.size(dtrajs))\n"
   ]
  },
  {
   "cell_type": "code",
   "execution_count": 40,
   "metadata": {},
   "outputs": [
    {
     "name": "stdout",
     "output_type": "stream",
     "text": [
      "[-0.2782186   0.9038354  -0.8227239  -0.03498906  1.5228716  -0.5968001\n",
      "  0.11088946  0.62524563 -0.17661671  1.4504845   1.5611658   1.5421002\n",
      "  0.2658252  -1.0498576   1.3393638   0.07325193 -1.0321937   0.32379776\n",
      " -0.634309   -0.27299985]\n",
      "[-0.83150274  1.1893114   0.3401748  -1.0426459  -0.2012194  -0.17550783\n",
      " -1.5707672   1.536833   -0.8706384   0.60384893  0.24499096 -0.40317905\n",
      " -1.7048713   0.60005766  0.7372849  -0.99669296  0.42080358 -1.6454704\n",
      " -0.18999083 -0.5282596 ]\n"
     ]
    },
    {
     "data": {
      "image/png": "[encoded data removed]",
      "text/plain": [
       "<Figure size 432x288 with 2 Axes>"
      ]
     },
     "metadata": {
      "needs_background": "light"
     },
     "output_type": "display_data"
    }
   ],
   "source": [
    "fig, axes= mplt.plot_free_energy(np.vstack(Y)[:,0], np.vstack(Y)[:,1])\n",
    "cc_x = cl.clustercenters[:,0]\n",
    "cc_y = cl.clustercenters[:,1]\n",
    "plot(cc_x,cc_y, linewidth=0, marker='o', markersize=5, color='black')\n",
    "title(\"CatS TICA Cluster Centroids\" )\n",
    "\n",
    "fig.savefig(\"tica_FE.png\", dpi = 100)\n",
    "#plot(cc_x[16], cc_y[16],linewidth=0, marker='o', markersize=5, color=\"red\")\n",
    "#plot(cc_x[7], cc_y[7],linewidth=0, marker='o', markersize=5, color=\"red\")\n",
    "#plot(cc_x[3], cc_y[3],linewidth=0, marker='o', markersize=5, color=\"red\")\n",
    "\n",
    "print(cc_x)\n",
    "print(cc_y)"
   ]
  },
  {
   "cell_type": "code",
   "execution_count": 33,
   "metadata": {},
   "outputs": [
    {
     "data": {
      "text/plain": [
       "array([[ 0.07110195, -0.02619497, -0.00655349],\n",
       "       [ 0.04418192, -0.04310122,  0.01390593],\n",
       "       [ 0.00655095,  0.0009886 , -0.00106177],\n",
       "       [ 0.83008092,  0.52768104,  0.11261846],\n",
       "       [-0.08560921,  0.06103238,  0.02063298],\n",
       "       [ 0.04224941, -0.02259556,  0.0351613 ],\n",
       "       [-0.61564062,  0.74166611,  0.07665885],\n",
       "       [-0.11567196, -0.27662145, -0.11892936],\n",
       "       [ 0.10184881, -0.0980808 ,  0.03731874],\n",
       "       [ 0.11610824, -0.15804391, -0.03630969],\n",
       "       [-0.10140876, -0.08114349,  0.98082854]])"
      ]
     },
     "execution_count": 33,
     "metadata": {},
     "output_type": "execute_result"
    }
   ],
   "source": [
    "tica_obj.feature_TIC_correlation"
   ]
  },
  {
   "cell_type": "code",
   "execution_count": 34,
   "metadata": {},
   "outputs": [
    {
     "data": {
      "text/plain": [
       "array([0.61735628, 0.84458127, 0.97355359, 0.98662943, 0.99438371,\n",
       "       0.99687521, 0.99835711, 0.99943109, 0.99998705, 0.9999936 ,\n",
       "       1.        ])"
      ]
     },
     "execution_count": 34,
     "metadata": {},
     "output_type": "execute_result"
    }
   ],
   "source": [
    "tica_obj.cumvar"
   ]
  },
  {
   "cell_type": "code",
   "execution_count": 41,
   "metadata": {},
   "outputs": [
    {
     "name": "stdout",
     "output_type": "stream",
     "text": [
      "[array([14, 14, 14, ...,  5,  2, 13], dtype=int32)]\n",
      "[14 14 14 ...  5  2 13]\n"
     ]
    }
   ],
   "source": [
    "print(dtrajs)\n",
    "dtraj=max(dtrajs)\n",
    "print(dtraj)"
   ]
  },
  {
   "cell_type": "code",
   "execution_count": null,
   "metadata": {},
   "outputs": [],
   "source": [
    "#From here on it's clustering and extracting centroids, as well as saving out the centroid coords"
   ]
  },
  {
   "cell_type": "code",
   "execution_count": 42,
   "metadata": {},
   "outputs": [],
   "source": [
    "Clusters={}\n",
    "\n",
    "for count in range(0,20):\n",
    "    frames=[]\n",
    "    indices = [d for d, x in enumerate(dtraj) if x == count]\n",
    "    frames.append(indices)\n",
    "    Clusters[count]=frames\n",
    "#print(Clusters)"
   ]
  },
  {
   "cell_type": "code",
   "execution_count": 43,
   "metadata": {},
   "outputs": [
    {
     "name": "stdout",
     "output_type": "stream",
     "text": [
      "0\n",
      "<mdtraj.Trajectory with 3301 frames, 3324 atoms, 220 residues, and unitcells>\n"
     ]
    },
    {
     "name": "stderr",
     "output_type": "stream",
     "text": [
      "/opt/anaconda3/lib/python3.6/site-packages/mdtraj/core/trajectory.py:1118: FutureWarning: Using a non-tuple sequence for multidimensional indexing is deprecated; use `arr[tuple(seq)]` instead of `arr[seq]`. In the future this will be interpreted as an array index, `arr[np.array(seq)]`, which will result either in an error or a different result.\n",
      "  xyz = self.xyz[key]\n",
      "/opt/anaconda3/lib/python3.6/site-packages/mdtraj/core/trajectory.py:1119: FutureWarning: Using a non-tuple sequence for multidimensional indexing is deprecated; use `arr[tuple(seq)]` instead of `arr[seq]`. In the future this will be interpreted as an array index, `arr[np.array(seq)]`, which will result either in an error or a different result.\n",
      "  time = self.time[key]\n",
      "/opt/anaconda3/lib/python3.6/site-packages/mdtraj/core/trajectory.py:1123: FutureWarning: Using a non-tuple sequence for multidimensional indexing is deprecated; use `arr[tuple(seq)]` instead of `arr[seq]`. In the future this will be interpreted as an array index, `arr[np.array(seq)]`, which will result either in an error or a different result.\n",
      "  unitcell_angles = self.unitcell_angles[key]\n",
      "/opt/anaconda3/lib/python3.6/site-packages/mdtraj/core/trajectory.py:1125: FutureWarning: Using a non-tuple sequence for multidimensional indexing is deprecated; use `arr[tuple(seq)]` instead of `arr[seq]`. In the future this will be interpreted as an array index, `arr[np.array(seq)]`, which will result either in an error or a different result.\n",
      "  unitcell_lengths = self.unitcell_lengths[key]\n"
     ]
    },
    {
     "ename": "OSError",
     "evalue": "Unable to open file \"TICA_res_dis_Traj/Trajcluster_all0.xtc\"",
     "output_type": "error",
     "traceback": [
      "\u001b[0;31m---------------------------------------------------------------------------\u001b[0m",
      "\u001b[0;31mOSError\u001b[0m                                   Traceback (most recent call last)",
      "\u001b[0;32m<ipython-input-43-13c16d1303e6>\u001b[0m in \u001b[0;36m<module>\u001b[0;34m()\u001b[0m\n\u001b[1;32m      3\u001b[0m     \u001b[0ma\u001b[0m\u001b[0;34m=\u001b[0m\u001b[0mtraj\u001b[0m\u001b[0;34m[\u001b[0m\u001b[0mClusters\u001b[0m\u001b[0;34m[\u001b[0m\u001b[0mkey\u001b[0m\u001b[0;34m]\u001b[0m\u001b[0;34m]\u001b[0m\u001b[0;34m\u001b[0m\u001b[0m\n\u001b[1;32m      4\u001b[0m     \u001b[0mprint\u001b[0m\u001b[0;34m(\u001b[0m\u001b[0ma\u001b[0m\u001b[0;34m)\u001b[0m\u001b[0;34m\u001b[0m\u001b[0m\n\u001b[0;32m----> 5\u001b[0;31m     \u001b[0ma\u001b[0m\u001b[0;34m.\u001b[0m\u001b[0msave_xtc\u001b[0m\u001b[0;34m(\u001b[0m\u001b[0;34m'TICA_res_dis_Traj/Trajcluster_all'\u001b[0m\u001b[0;34m+\u001b[0m\u001b[0mstr\u001b[0m\u001b[0;34m(\u001b[0m\u001b[0mkey\u001b[0m\u001b[0;34m)\u001b[0m\u001b[0;34m+\u001b[0m\u001b[0;34m\".xtc\"\u001b[0m\u001b[0;34m)\u001b[0m\u001b[0;34m\u001b[0m\u001b[0m\n\u001b[0m",
      "\u001b[0;32m/opt/anaconda3/lib/python3.6/site-packages/mdtraj/core/trajectory.py\u001b[0m in \u001b[0;36msave_xtc\u001b[0;34m(self, filename, force_overwrite)\u001b[0m\n\u001b[1;32m   1415\u001b[0m             \u001b[0mOverwrite\u001b[0m \u001b[0manything\u001b[0m \u001b[0mthat\u001b[0m \u001b[0mexists\u001b[0m \u001b[0mat\u001b[0m \u001b[0mfilename\u001b[0m\u001b[0;34m,\u001b[0m \u001b[0;32mif\u001b[0m \u001b[0mits\u001b[0m \u001b[0malready\u001b[0m \u001b[0mthere\u001b[0m\u001b[0;34m\u001b[0m\u001b[0m\n\u001b[1;32m   1416\u001b[0m         \"\"\"\n\u001b[0;32m-> 1417\u001b[0;31m         \u001b[0;32mwith\u001b[0m \u001b[0mXTCTrajectoryFile\u001b[0m\u001b[0;34m(\u001b[0m\u001b[0mfilename\u001b[0m\u001b[0;34m,\u001b[0m \u001b[0;34m'w'\u001b[0m\u001b[0;34m,\u001b[0m \u001b[0mforce_overwrite\u001b[0m\u001b[0;34m=\u001b[0m\u001b[0mforce_overwrite\u001b[0m\u001b[0;34m)\u001b[0m \u001b[0;32mas\u001b[0m \u001b[0mf\u001b[0m\u001b[0;34m:\u001b[0m\u001b[0;34m\u001b[0m\u001b[0m\n\u001b[0m\u001b[1;32m   1418\u001b[0m             f.write(xyz=in_units_of(self.xyz, Trajectory._distance_unit, f.distance_unit),\n\u001b[1;32m   1419\u001b[0m                     \u001b[0mtime\u001b[0m\u001b[0;34m=\u001b[0m\u001b[0mself\u001b[0m\u001b[0;34m.\u001b[0m\u001b[0mtime\u001b[0m\u001b[0;34m,\u001b[0m\u001b[0;34m\u001b[0m\u001b[0m\n",
      "\u001b[0;32mmdtraj/formats/xtc/xtc.pyx\u001b[0m in \u001b[0;36mxtc.XTCTrajectoryFile.__cinit__ (mdtraj/formats/xtc/xtc.c:3784)\u001b[0;34m()\u001b[0m\n",
      "\u001b[0;31mOSError\u001b[0m: Unable to open file \"TICA_res_dis_Traj/Trajcluster_all0.xtc\""
     ]
    }
   ],
   "source": [
    "for key in Clusters:\n",
    "    print(key)\n",
    "    a=traj[Clusters[key]]\n",
    "    print(a)\n",
    "    a.save_xtc('TICA_res_dis_Traj/Trajcluster_all'+str(key)+\".xtc\")"
   ]
  },
  {
   "cell_type": "code",
   "execution_count": 44,
   "metadata": {},
   "outputs": [
    {
     "name": "stdout",
     "output_type": "stream",
     "text": [
      "[0.03809505, 0.039522327, 0.012974997, 0.023403972, 0.074089125, 0.0077476003, 0.045187086, 0.07352319, 0.024873367, 0.02864539, 0.066973135, 0.036188196, 0.02788832, 0.031696353, 0.0402841, 0.06589054, 0.033944506, 0.018335674, 0.0366809, 0.031794235]\n",
      "[60669.  2265. 54265. 56488. 16362. 55344. 37666. 42412. 38143. 50664.\n",
      " 64773. 50137. 67132. 47152. 49780. 16624. 56053. 58131. 45719. 21777.]\n"
     ]
    }
   ],
   "source": [
    "avg = [100, 100, 100, 100, 100,100, 100, 100, 100, 100,100, 100, 100, 100, 100,100, 100, 100, 100, 100]\n",
    "indices = np.zeros(20)\n",
    "for i in range(len(Y)):\n",
    "    c = cl.clustercenters[cl.dtrajs[0][i]]\n",
    "    \n",
    "    v = Y[i]\n",
    "    \n",
    "    newavg = np.linalg.norm(c-v)\n",
    "   \n",
    "    if avg[cl.dtrajs[0][i]] > newavg:\n",
    "        avg[cl.dtrajs[0][i]] = newavg\n",
    "        indices[cl.dtrajs[0][i]] = i\n",
    "        \n",
    "print(avg)\n",
    "print(indices)\n",
    "\n",
    "for i in range(len(avg)):\n",
    "    traj[i].save_pdb('rep_struct/testing_pdb_res%s.pdb' % i)"
   ]
  },
  {
   "cell_type": "code",
   "execution_count": null,
   "metadata": {},
   "outputs": [],
   "source": [
    "import glob\n",
    "\n",
    "path=\"/home/jegan/Documents/TICA/*.xtc\"\n",
    "\n",
    "files=glob.glob(path)\n",
    "\n",
    "print(files)"
   ]
  },
  {
   "cell_type": "code",
   "execution_count": 49,
   "metadata": {},
   "outputs": [],
   "source": [
    "#writing a string to select the features in vmd\n",
    "poc = [[146,187],[116,136],[142,143],[71,212],[27,29],[117,187],[64,160],[119,20],[216,191],[24,146],[114,119]]\n",
    "\n",
    "pock = []\n",
    "for i in poc:\n",
    "    for k in i:\n",
    "        phrase = \"resid \"+str(k)+\" or \"\n",
    "        pock.append(phrase)\n",
    "\n",
    "f= open(\"vmd_poc_string.txt\", \"w+\")\n",
    "\n",
    "for y in pock:\n",
    "    f.write(y)\n",
    "    \n",
    "f.close()\n",
    "    "
   ]
  },
  {
   "cell_type": "code",
   "execution_count": null,
   "metadata": {},
   "outputs": [],
   "source": []
  }
 ],
 "metadata": {
  "kernelspec": {
   "display_name": "Python 3",
   "language": "python",
   "name": "python3"
  },
  "language_info": {
   "codemirror_mode": {
    "name": "ipython",
    "version": 3
   },
   "file_extension": ".py",
   "mimetype": "text/x-python",
   "name": "python",
   "nbconvert_exporter": "python",
   "pygments_lexer": "ipython3",
   "version": "3.6.6"
  }
 },
 "nbformat": 4,
 "nbformat_minor": 2
}
