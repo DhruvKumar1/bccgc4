{
 "cells": [
  {
   "cell_type": "code",
   "execution_count": 4,
   "metadata": {},
   "outputs": [
    {
     "name": "stdout",
     "output_type": "stream",
     "text": [
      "Populating the interactive namespace from numpy and matplotlib\n"
     ]
    }
   ],
   "source": [
    "import pyemma\n",
    "import glob\n",
    "import numpy as np\n",
    "import pyemma.plots as mplt\n",
    "%pylab inline\n",
    "import mdtraj as md\n",
    "import pyemma.coordinates as coor\n",
    " \n",
    "def average_by_state(dtraj, x, nstates):\n",
    "    assert(len(dtraj) == len(x))\n",
    "    N = len(dtraj)\n",
    "    res = np.zeros((nstates))\n",
    "    for i in range(nstates):\n",
    "        I = np.argwhere(dtraj == i)[:,0]\n",
    "        res[i] = np.mean(x[I])\n",
    "    return res\n",
    " \n",
    "def avg_by_set(x, sets):\n",
    "    # compute mean positions of sets. This is important because of some technical points the set order\n",
    "    # in the coarse-grained TPT object can be different from the input order.\n",
    "    avg = np.zeros(len(sets))\n",
    "    for i in range(len(sets)):\n",
    "        I = list(sets[i])\n",
    "        avg[i] = np.mean(x[I])\n",
    "    return avg"
   ]
  },
  {
   "cell_type": "code",
   "execution_count": 5,
   "metadata": {},
   "outputs": [
    {
     "name": "stdout",
     "output_type": "stream",
     "text": [
      "['RES_DIST (closest-heavy) PHE146 - TRP187', 'RES_DIST (closest-heavy) GLU116 - SER136', 'RES_DIST (closest-heavy) ARG142 - HIS143', 'RES_DIST (closest-heavy) PHE71 - PHE212', 'RES_DIST (closest-heavy) TRP27 - PHE29', 'RES_DIST (closest-heavy) LEU117 - TRP187', 'RES_DIST (closest-heavy) ASN64 - THR160', 'RES_DIST (closest-heavy) TYR119 - GLN20', 'RES_DIST (closest-heavy) PRO216 - PHE191', 'RES_DIST (closest-heavy) GLY24 - PHE146', 'RES_DIST (closest-heavy) TYR114 - TYR119']\n",
      "<pyemma.coordinates.data.fragmented_trajectory_reader.FragmentedTrajectoryReader object at 0x7f4fb5c1df98>\n",
      "trajectory length =  90000\n",
      "number of dimension =  11\n"
     ]
    }
   ],
   "source": [
    "#Makes a list of nested lists for 5 mds, and 5 .nc files in each\n",
    "trajfile = []\n",
    "for i in range(1,6):\n",
    "    nc_list = []\n",
    "    for k in range(1,6):\n",
    "        path = \"/net/jam-amaro-shared/bccgc4/CatSMD/md\"+str(i)+\"/\"+str(k)+\".nc\"\n",
    "        nc_list.append(path)\n",
    "    trajfile.append(nc_list)\n",
    "    \n",
    "#print(trajfile)\n",
    "\n",
    "#assigns the features\n",
    "feat = coor.featurizer(\"/net/jam-amaro-shared/bccgc4/CatSMD/md1/system.prmtop\")\n",
    "feat.add_residue_mindist([[146,187],[116,136],[142,143],[71,212],[27,29],[117,187],[64,160],[119,20],[216,191],[24,146],[114,119]], scheme=\"closest-heavy\")\n",
    "print(feat.describe()[:13])\n",
    "#selecting distances at minimum & closest heavy atoms\n",
    "    \n",
    "#feat.add_minrmsd_to_ref(traj[0])\n",
    "inp = coor.source(trajfile, feat)\n",
    "print(inp)\n",
    "print('trajectory length = ',inp.trajectory_length(0))\n",
    "print('number of dimension = ',inp.dimension())\n",
    "  \n",
    "\n"
   ]
  },
  {
   "cell_type": "code",
   "execution_count": 6,
   "metadata": {},
   "outputs": [
    {
     "data": {
      "application/vnd.jupyter.widget-view+json": {
       "model_id": "dca2e9ea8a414931b3f265d43b942bcc",
       "version_major": 2,
       "version_minor": 0
      },
      "text/plain": [
       "HBox(children=(HBox(children=(Label(value='calculate covariances'),), layout=Layout(max_width='35%', min_width…"
      ]
     },
     "metadata": {},
     "output_type": "display_data"
    },
    {
     "name": "stdout",
     "output_type": "stream",
     "text": []
    },
    {
     "data": {
      "application/vnd.jupyter.widget-view+json": {
       "model_id": "cb004edafe1f49cebb12ee694ccd32fc",
       "version_major": 2,
       "version_minor": 0
      },
      "text/plain": [
       "HBox(children=(HBox(children=(Label(value='getting output of TICA'),), layout=Layout(max_width='35%', min_widt…"
      ]
     },
     "metadata": {},
     "output_type": "display_data"
    },
    {
     "name": "stdout",
     "output_type": "stream",
     "text": [
      "Mean values:  [[-1.6133721   0.43638834  0.739573  ]\n",
      " [-1.3850038   0.5213238   0.91248465]\n",
      " [-1.5028572   0.65999645  0.89443415]\n",
      " ...\n",
      " [ 0.5598651  -0.43623924 -0.65678775]\n",
      " [ 0.5868933  -0.44692063 -0.3782111 ]\n",
      " [ 0.46868834 -0.44397897 -0.15848942]]\n",
      "Variances:    [[0.01814618 0.18879817 0.6114186 ]\n",
      " [0.17720881 0.0418978  0.35092434]\n",
      " [0.08257592 0.13028173 0.17668575]\n",
      " ...\n",
      " [0.6888858  1.4884455  0.40055332]\n",
      " [0.5791992  1.2259517  0.82160395]\n",
      " [0.3342529  0.90886843 0.41794878]]\n",
      "[1754.63231863  965.30829774  677.58519454  423.40835539  343.949736  ]\n"
     ]
    },
    {
     "data": {
      "application/vnd.jupyter.widget-view+json": {
       "model_id": "1e7b5203634d4ebbb67d71a48e0738af",
       "version_major": 2,
       "version_minor": 0
      },
      "text/plain": [
       "HBox(children=(HBox(children=(Label(value='initialize kmeans++ centers'),), layout=Layout(max_width='35%', min…"
      ]
     },
     "metadata": {},
     "output_type": "display_data"
    },
    {
     "data": {
      "application/vnd.jupyter.widget-view+json": {
       "model_id": "7cc12dcbb48847599b27159bbdbbe245",
       "version_major": 2,
       "version_minor": 0
      },
      "text/plain": [
       "HBox(children=(HBox(children=(Label(value='kmeans iterations'),), layout=Layout(max_width='35%', min_width='35…"
      ]
     },
     "metadata": {},
     "output_type": "display_data"
    },
    {
     "name": "stdout",
     "output_type": "stream",
     "text": [
      "16-11-18 23:17:22 pyemma.coordinates.clustering.kmeans.KmeansClustering[28] WARNING  Algorithm did not reach convergence criterion of 1e-05 in 10 iterations. Consider increasing max_iter.\n"
     ]
    },
    {
     "data": {
      "application/vnd.jupyter.widget-view+json": {
       "model_id": "d4228feec310483a905e711ee4ee13a4",
       "version_major": 2,
       "version_minor": 0
      },
      "text/plain": [
       "HBox(children=(HBox(children=(Label(value='getting output of KmeansClustering'),), layout=Layout(max_width='35…"
      ]
     },
     "metadata": {},
     "output_type": "display_data"
    },
    {
     "name": "stdout",
     "output_type": "stream",
     "text": []
    },
    {
     "ename": "NameError",
     "evalue": "name 'F' is not defined",
     "output_type": "error",
     "traceback": [
      "\u001b[0;31m---------------------------------------------------------------------------\u001b[0m",
      "\u001b[0;31mNameError\u001b[0m                                 Traceback (most recent call last)",
      "\u001b[0;32m<ipython-input-6-8d7501d0c7c9>\u001b[0m in \u001b[0;36m<module>\u001b[0;34m()\u001b[0m\n\u001b[1;32m     28\u001b[0m \u001b[0;34m\u001b[0m\u001b[0m\n\u001b[1;32m     29\u001b[0m \u001b[0;31m#plotting out the results and clustercenters\u001b[0m\u001b[0;34m\u001b[0m\u001b[0;34m\u001b[0m\u001b[0m\n\u001b[0;32m---> 30\u001b[0;31m \u001b[0mcontourf\u001b[0m\u001b[0;34m(\u001b[0m\u001b[0mF\u001b[0m\u001b[0;34m.\u001b[0m\u001b[0mT\u001b[0m\u001b[0;34m,\u001b[0m \u001b[0;36m50\u001b[0m\u001b[0;34m,\u001b[0m \u001b[0mcmap\u001b[0m\u001b[0;34m=\u001b[0m\u001b[0mplt\u001b[0m\u001b[0;34m.\u001b[0m\u001b[0mcm\u001b[0m\u001b[0;34m.\u001b[0m\u001b[0mhot\u001b[0m\u001b[0;34m,\u001b[0m \u001b[0mextent\u001b[0m\u001b[0;34m=\u001b[0m\u001b[0mextent\u001b[0m\u001b[0;34m)\u001b[0m\u001b[0;34m\u001b[0m\u001b[0m\n\u001b[0m\u001b[1;32m     31\u001b[0m \u001b[0mplot\u001b[0m\u001b[0;34m(\u001b[0m\u001b[0mcc_x\u001b[0m\u001b[0;34m,\u001b[0m\u001b[0mcc_y\u001b[0m\u001b[0;34m,\u001b[0m \u001b[0mlinewidth\u001b[0m\u001b[0;34m=\u001b[0m\u001b[0;36m0\u001b[0m\u001b[0;34m,\u001b[0m \u001b[0mmarker\u001b[0m\u001b[0;34m=\u001b[0m\u001b[0;34m'o'\u001b[0m\u001b[0;34m)\u001b[0m\u001b[0;34m\u001b[0m\u001b[0m\n\u001b[1;32m     32\u001b[0m \u001b[0;34m\u001b[0m\u001b[0m\n",
      "\u001b[0;31mNameError\u001b[0m: name 'F' is not defined"
     ]
    }
   ],
   "source": [
    "lag=1000\n",
    "tica_obj = coor.tica(inp, lag=lag, var_cutoff=0.95, kinetic_map=False)\n",
    "# here we get the data that has been projected onto the first 2 IC's. It's a list, because we could generally\n",
    "# have a list of trajectories, so we just get the first element.\n",
    "Y = tica_obj.get_output()\n",
    "#print('Projected data shape = ', Y.shape)\n",
    "\n",
    "print('Mean values: ', np.mean(Y, axis=0))\n",
    "print('Variances:   ', np.var(Y, axis=0))\n",
    "print(-lag/np.log(tica_obj.eigenvalues[:5]))\n",
    " \n",
    "# histogram data\n",
    "#z,x,y = np.histogram2d(Y[:,0],Y[:,1], bins=50)\n",
    "# compute free energies\n",
    "#F = -np.log(z)\n",
    "# contour plot\n",
    "#extent = [x[0], x[-1], y[0], y[-1]]\n",
    "#contourf(F.T, 50, cmap=plt.cm.hot, extent=extent)\n",
    "\n",
    "#making clusters from kmeans\n",
    "cl = coor.cluster_kmeans(data=Y,k=10)\n",
    "\n",
    "#cl=coor.cluster_uniform_time(data=Y, )\n",
    "# for later use we save the discretetrajectories (dtrajs) and cluster center coordinates:\n",
    "dtrajs = cl.dtrajs\n",
    "cc_x = cl.clustercenters[:,0]\n",
    "cc_y = cl.clustercenters[:,1]\n",
    " \n",
    "#plotting out the results and clustercenters \n",
    "contourf(F.T, 50, cmap=plt.cm.hot, extent=extent)\n",
    "plot(cc_x,cc_y, linewidth=0, marker='o')\n",
    " \n",
    "print(dtrajs)\n",
    "print(np.size(dtrajs))\n"
   ]
  },
  {
   "cell_type": "code",
   "execution_count": null,
   "metadata": {},
   "outputs": [],
   "source": []
  },
  {
   "cell_type": "code",
   "execution_count": 8,
   "metadata": {},
   "outputs": [
    {
     "data": {
      "application/vnd.jupyter.widget-view+json": {
       "model_id": "dbfd6b1ab15b43eaa78bc5c4e7fbfc77",
       "version_major": 2,
       "version_minor": 0
      },
      "text/plain": [
       "HBox(children=(HBox(children=(Label(value='initialize kmeans++ centers'),), layout=Layout(max_width='35%', min…"
      ]
     },
     "metadata": {},
     "output_type": "display_data"
    },
    {
     "data": {
      "application/vnd.jupyter.widget-view+json": {
       "model_id": "08b019d3b7984923830bab40bb0c1f70",
       "version_major": 2,
       "version_minor": 0
      },
      "text/plain": [
       "HBox(children=(HBox(children=(Label(value='kmeans iterations'),), layout=Layout(max_width='35%', min_width='35…"
      ]
     },
     "metadata": {},
     "output_type": "display_data"
    },
    {
     "name": "stdout",
     "output_type": "stream",
     "text": []
    },
    {
     "name": "stdout",
     "output_type": "stream",
     "text": [
      "15-11-18 21:46:44 pyemma.coordinates.clustering.kmeans.KmeansClustering[32] WARNING  Algorithm did not reach convergence criterion of 1e-05 in 10 iterations. Consider increasing max_iter.\n"
     ]
    },
    {
     "data": {
      "application/vnd.jupyter.widget-view+json": {
       "model_id": "879d57b101bf48ea853ca562819a8b00",
       "version_major": 2,
       "version_minor": 0
      },
      "text/plain": [
       "HBox(children=(HBox(children=(Label(value='getting output of KmeansClustering'),), layout=Layout(max_width='35…"
      ]
     },
     "metadata": {},
     "output_type": "display_data"
    },
    {
     "name": "stdout",
     "output_type": "stream",
     "text": []
    },
    {
     "ename": "NameError",
     "evalue": "name 'F' is not defined",
     "output_type": "error",
     "traceback": [
      "\u001b[0;31m---------------------------------------------------------------------------\u001b[0m",
      "\u001b[0;31mNameError\u001b[0m                                 Traceback (most recent call last)",
      "\u001b[0;32m<ipython-input-8-20887ed23620>\u001b[0m in \u001b[0;36m<module>\u001b[0;34m()\u001b[0m\n\u001b[1;32m      8\u001b[0m \u001b[0;34m\u001b[0m\u001b[0m\n\u001b[1;32m      9\u001b[0m \u001b[0;31m#plotting out the results and clustercenters\u001b[0m\u001b[0;34m\u001b[0m\u001b[0;34m\u001b[0m\u001b[0m\n\u001b[0;32m---> 10\u001b[0;31m \u001b[0mcontourf\u001b[0m\u001b[0;34m(\u001b[0m\u001b[0mF\u001b[0m\u001b[0;34m.\u001b[0m\u001b[0mT\u001b[0m\u001b[0;34m,\u001b[0m \u001b[0;36m50\u001b[0m\u001b[0;34m,\u001b[0m \u001b[0mcmap\u001b[0m\u001b[0;34m=\u001b[0m\u001b[0mplt\u001b[0m\u001b[0;34m.\u001b[0m\u001b[0mcm\u001b[0m\u001b[0;34m.\u001b[0m\u001b[0mhot\u001b[0m\u001b[0;34m,\u001b[0m \u001b[0mextent\u001b[0m\u001b[0;34m=\u001b[0m\u001b[0mextent\u001b[0m\u001b[0;34m)\u001b[0m\u001b[0;34m\u001b[0m\u001b[0m\n\u001b[0m\u001b[1;32m     11\u001b[0m \u001b[0mplot\u001b[0m\u001b[0;34m(\u001b[0m\u001b[0mcc_x\u001b[0m\u001b[0;34m,\u001b[0m\u001b[0mcc_y\u001b[0m\u001b[0;34m,\u001b[0m \u001b[0mlinewidth\u001b[0m\u001b[0;34m=\u001b[0m\u001b[0;36m0\u001b[0m\u001b[0;34m,\u001b[0m \u001b[0mmarker\u001b[0m\u001b[0;34m=\u001b[0m\u001b[0;34m'o'\u001b[0m\u001b[0;34m)\u001b[0m\u001b[0;34m\u001b[0m\u001b[0m\n\u001b[1;32m     12\u001b[0m \u001b[0;34m\u001b[0m\u001b[0m\n",
      "\u001b[0;31mNameError\u001b[0m: name 'F' is not defined"
     ]
    }
   ],
   "source": [
    "cl = coor.cluster_kmeans(data=Y,k=10)\n",
    "\n",
    "#cl=coor.cluster_uniform_time(data=Y, )\n",
    "# for later use we save the discretetrajectories (dtrajs) and cluster center coordinates:\n",
    "dtrajs = cl.dtrajs\n",
    "cc_x = cl.clustercenters[:,0]\n",
    "cc_y = cl.clustercenters[:,1]\n",
    " \n",
    "#plotting out the results and clustercenters \n",
    "contourf(F.T, 50, cmap=plt.cm.hot, extent=extent)\n",
    "plot(cc_x,cc_y, linewidth=0, marker='o')\n",
    " \n",
    "print(dtrajs)\n",
    "print(np.size(dtrajs))"
   ]
  },
  {
   "cell_type": "code",
   "execution_count": 7,
   "metadata": {},
   "outputs": [
    {
     "name": "stdout",
     "output_type": "stream",
     "text": [
      "[-0.09716513  0.9416013  -1.4021636   0.70201105 -0.59379303  0.06419989\n",
      " -1.1028148   1.5408367  -0.09593611 -1.4452718 ]\n",
      "[-1.2181692   0.23959588  0.5834352  -0.11492619  1.5670834  -0.81715286\n",
      "  0.53842217  0.87786686 -1.1752999   0.3825211 ]\n"
     ]
    },
    {
     "data": {
      "image/png": "[encoded data removed]",
      "text/plain": [
       "<Figure size 432x288 with 2 Axes>"
      ]
     },
     "metadata": {
      "needs_background": "light"
     },
     "output_type": "display_data"
    }
   ],
   "source": [
    "#plots free energy diagram\n",
    "fig, axes= mplt.plot_free_energy(np.vstack(Y)[:,0], np.vstack(Y)[:,1])\n",
    "cc_x = cl.clustercenters[:,0]\n",
    "cc_y = cl.clustercenters[:,1]\n",
    "plot(cc_x,cc_y, linewidth=0, marker='o', markersize=5, color='black')\n",
    "title(\"CatS TICA Cluster Centroids\" )\n",
    "\n",
    "fig.savefig(\"tica_FE.png\", dpi = 100)\n",
    "\n",
    "print(cc_x)\n",
    "print(cc_y)"
   ]
  },
  {
   "cell_type": "code",
   "execution_count": 8,
   "metadata": {},
   "outputs": [
    {
     "data": {
      "text/plain": [
       "array([[-7.87387408e-02, -3.68212266e-02, -2.35290772e-03],\n",
       "       [-3.76031836e-02,  5.99394478e-04,  3.38061107e-02],\n",
       "       [-6.46345438e-03, -1.96376026e-03, -2.17023188e-03],\n",
       "       [-8.00493419e-01,  5.78973509e-01,  6.27073917e-02],\n",
       "       [ 8.10931749e-02,  6.79184138e-02,  2.74853845e-02],\n",
       "       [-1.11191129e-02,  1.14119456e-02,  3.37291436e-02],\n",
       "       [ 6.22111594e-01,  7.36973140e-01,  4.36155321e-02],\n",
       "       [ 1.47632245e-01, -2.81385849e-01, -1.03837994e-01],\n",
       "       [-9.18043855e-02, -9.94803241e-02,  3.66813226e-02],\n",
       "       [-1.95983013e-01, -1.36016416e-01,  1.30610116e-02],\n",
       "       [ 7.38214829e-02, -9.03526272e-03,  9.86100963e-01]])"
      ]
     },
     "execution_count": 8,
     "metadata": {},
     "output_type": "execute_result"
    }
   ],
   "source": [
    "#This tells us how much each feature contributes to each TIC\n",
    "tica_obj.feature_TIC_correlation"
   ]
  },
  {
   "cell_type": "code",
   "execution_count": 9,
   "metadata": {},
   "outputs": [
    {
     "data": {
      "text/plain": [
       "array([0.62313897, 0.86850045, 0.97029445, 0.98760017, 0.99341148,\n",
       "       0.99699391, 0.99849689, 0.99953202, 0.99997108, 0.99999433,\n",
       "       1.        ])"
      ]
     },
     "execution_count": 9,
     "metadata": {},
     "output_type": "execute_result"
    }
   ],
   "source": [
    "#This tells us the number of TICs TICA produces to retain the variance we want, which is .95\n",
    "tica_obj.cumvar"
   ]
  },
  {
   "cell_type": "code",
   "execution_count": 10,
   "metadata": {},
   "outputs": [
    {
     "name": "stdout",
     "output_type": "stream",
     "text": [
      "[array([2, 2, 2, ..., 7, 7, 1], dtype=int32), array([2, 2, 2, ..., 8, 0, 8], dtype=int32), array([2, 2, 2, ..., 8, 8, 8], dtype=int32), array([2, 9, 2, ..., 7, 7, 7], dtype=int32), array([9, 2, 2, ..., 5, 5, 3], dtype=int32)]\n"
     ]
    }
   ],
   "source": [
    "#This prints the discrete trajectories we saved out before, then prints the maximum of them...\n",
    "print(dtrajs)\n",
    "#dtraj=max(dtrajs)\n",
    "#print(dtraj)"
   ]
  },
  {
   "cell_type": "code",
   "execution_count": null,
   "metadata": {},
   "outputs": [],
   "source": [
    "#From here on it's clustering and extracting centroids, as well as saving out the centroid coords"
   ]
  },
  {
   "cell_type": "code",
   "execution_count": 14,
   "metadata": {},
   "outputs": [],
   "source": [
    "avg = [100, 100, 100, 100, 100, 100, 100, 100, 100, 100]\n",
    "#indices = np.zeros(5)\n",
    "\n",
    "\n",
    "indices = {}\n",
    "for i in range(len(Y)):\n",
    "    #for k in range(len(Y[0][i])):\n",
    "    for k in range(len(Y[i])):\n",
    "        c = cl.clustercenters[cl.dtrajs[i][k]]\n",
    "        v = Y[i][k]\n",
    "        newavg = np.linalg.norm(c-v)\n",
    "        if avg[cl.dtrajs[i][k]] > newavg:\n",
    "            avg[cl.dtrajs[i][k]] = newavg\n",
    "            indices[cl.dtrajs[i][k]] = [i, k]\n",
    "\n",
    "trajectory=md.load(\"/net/jam-amaro-shared/bccgc4/Strided_Traj/joined_traj_all.xtc\", top=\"/net/jam-amaro-shared/bccgc4/Strided_Traj/protein.h5\")\n",
    "\n",
    "z = 0\n",
    "for key in indices:\n",
    "        z = z + 1\n",
    "        index = indices[key][1]*(1 + indices[key][0])\n",
    "        i = trajectory[index].topology.select(\"protein\")\n",
    "        new_traj = trajectory[index].atom_slice(i)\n",
    "        new_traj.save_pdb('testing_TICA_pdb_%s.pdb' % z)"
   ]
  },
  {
   "cell_type": "code",
   "execution_count": null,
   "metadata": {},
   "outputs": [],
   "source": [
    "#makes dictionary for each cluster and frames in each cluster\n",
    "Clusters={}\n",
    "\n",
    "for count in range(0,10):\n",
    "    frames=[]\n",
    "    indices = [d for d, x in enumerate(dtraj) if x == count]\n",
    "    frames.append(indices)\n",
    "    Clusters[count]=frames\n",
    "#print(Clusters)\n",
    "\n",
    "traj=md.load(\"/net/jam-amaro-shared/bccgc4/Strided_Traj/joined_traj_all.xtc\", top=\"/net/jam-amaro-shared/bccgc4/Strided_Traj/system.prmtop\")\n",
    "\n",
    "#makes .xtc's out of each cluster\n",
    "for key in Clusters:\n",
    "    print(key)\n",
    "    a=traj[Clusters[key]]\n",
    "    print(a)\n",
    "    a.save_xtc('cluster_trajs/Trajcluster_all'+str(key)+\".xtc\")"
   ]
  },
  {
   "cell_type": "code",
   "execution_count": null,
   "metadata": {},
   "outputs": [],
   "source": [
    "import glob\n",
    "\n",
    "path=\"/home/jegan/Documents/TICA/*.xtc\"\n",
    "\n",
    "files=glob.glob(path)\n",
    "\n",
    "print(files)"
   ]
  },
  {
   "cell_type": "code",
   "execution_count": 49,
   "metadata": {},
   "outputs": [],
   "source": [
    "#writing a string to select the features in vmd\n",
    "poc = [[146,187],[116,136],[142,143],[71,212],[27,29],[117,187],[64,160],[119,20],[216,191],[24,146],[114,119]]\n",
    "\n",
    "pock = []\n",
    "for i in poc:\n",
    "    for k in i:\n",
    "        phrase = \"resid \"+str(k)+\" or \"\n",
    "        pock.append(phrase)\n",
    "\n",
    "f= open(\"vmd_poc_string.txt\", \"w+\")\n",
    "\n",
    "for y in pock:\n",
    "    f.write(y)\n",
    "    \n",
    "f.close()\n",
    "    "
   ]
  },
  {
   "cell_type": "code",
   "execution_count": null,
   "metadata": {},
   "outputs": [],
   "source": []
  }
 ],
 "metadata": {
  "kernelspec": {
   "display_name": "Python 3",
   "language": "python",
   "name": "python3"
  },
  "language_info": {
   "codemirror_mode": {
    "name": "ipython",
    "version": 3
   },
   "file_extension": ".py",
   "mimetype": "text/x-python",
   "name": "python",
   "nbconvert_exporter": "python",
   "pygments_lexer": "ipython3",
   "version": "3.6.6"
  }
 },
 "nbformat": 4,
 "nbformat_minor": 2
}
