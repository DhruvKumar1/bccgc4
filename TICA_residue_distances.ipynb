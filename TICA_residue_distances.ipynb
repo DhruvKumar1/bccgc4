{
 "cells": [
  {
   "cell_type": "code",
   "execution_count": 130,
   "metadata": {},
   "outputs": [
    {
     "name": "stdout",
     "output_type": "stream",
     "text": [
      "Populating the interactive namespace from numpy and matplotlib\n"
     ]
    }
   ],
   "source": [
    "import pyemma\n",
    "import glob\n",
    "import numpy as np\n",
    "import pyemma.plots as mplt\n",
    "%pylab inline\n",
    "import mdtraj as md\n",
    " \n",
    "import pyemma.coordinates as coor\n",
    " \n",
    "def average_by_state(dtraj, x, nstates):\n",
    "    assert(len(dtraj) == len(x))\n",
    "    N = len(dtraj)\n",
    "    res = np.zeros((nstates))\n",
    "    for i in range(nstates):\n",
    "        I = np.argwhere(dtraj == i)[:,0]\n",
    "        res[i] = np.mean(x[I])\n",
    "    return res\n",
    " \n",
    "def avg_by_set(x, sets):\n",
    "    # compute mean positions of sets. This is important because of some technical points the set order\n",
    "    # in the coarse-grained TPT object can be different from the input order.\n",
    "    avg = np.zeros(len(sets))\n",
    "    for i in range(len(sets)):\n",
    "        I = list(sets[i])\n",
    "        avg[i] = np.mean(x[I])\n",
    "    return avg\n",
    "\n"
   ]
  },
  {
   "cell_type": "code",
   "execution_count": 131,
   "metadata": {},
   "outputs": [],
   "source": [
    "traj=md.load(\"/net/jam-amaro-shared/bccgc4/Strided_Traj/joined_traj_stride10.xtc\", top= \"protein.h5\")\n"
   ]
  },
  {
   "cell_type": "code",
   "execution_count": 132,
   "metadata": {},
   "outputs": [
    {
     "name": "stdout",
     "output_type": "stream",
     "text": [
      "<mdtraj.Trajectory with 35000 frames, 3324 atoms, 220 residues, and unitcells>\n"
     ]
    }
   ],
   "source": [
    "traj=traj.superpose(traj,0)\n",
    "\n",
    "trajfile=\"/net/jam-amaro-shared/bccgc4/Strided_Traj/joined_traj_stride10.xtc\"\n",
    "\n",
    "print(traj)"
   ]
  },
  {
   "cell_type": "code",
   "execution_count": 133,
   "metadata": {},
   "outputs": [
    {
     "name": "stdout",
     "output_type": "stream",
     "text": [
      "TRP187\n"
     ]
    }
   ],
   "source": [
    "print(traj.topology.residue(187))"
   ]
  },
  {
   "cell_type": "code",
   "execution_count": 134,
   "metadata": {},
   "outputs": [
    {
     "name": "stdout",
     "output_type": "stream",
     "text": [
      "['RES_DIST (closest-heavy) PHE146 - TRP187', 'RES_DIST (closest-heavy) GLU116 - SER136', 'RES_DIST (closest-heavy) ARG142 - HIS143', 'RES_DIST (closest-heavy) PHE71 - PHE212', 'RES_DIST (closest-heavy) TRP27 - PHE29', 'RES_DIST (closest-heavy) LEU117 - TRP187', 'RES_DIST (closest-heavy) ASN64 - THR160', 'RES_DIST (closest-heavy) TYR119 - GLN20', 'RES_DIST (closest-heavy) PRO216 - PHE191', 'RES_DIST (closest-heavy) GLY24 - PHE146', 'RES_DIST (closest-heavy) TYR114 - TYR119']\n"
     ]
    }
   ],
   "source": [
    "feat = coor.featurizer(traj.topology)\n",
    "feat.add_residue_mindist([[146,187],[116,136],[142,143],[71,212],[27,29],[117,187],[64,160],[119,20],[216,191],[24,146],[114,119]], scheme=\"closest-heavy\")\n",
    "print(feat.describe()[:13])"
   ]
  },
  {
   "cell_type": "code",
   "execution_count": 112,
   "metadata": {},
   "outputs": [
    {
     "ename": "IndentationError",
     "evalue": "expected an indented block (<ipython-input-112-7060bf45d366>, line 11)",
     "output_type": "error",
     "traceback": [
      "\u001b[0;36m  File \u001b[0;32m\"<ipython-input-112-7060bf45d366>\"\u001b[0;36m, line \u001b[0;32m11\u001b[0m\n\u001b[0;31m    count=count+1\u001b[0m\n\u001b[0m        ^\u001b[0m\n\u001b[0;31mIndentationError\u001b[0m\u001b[0;31m:\u001b[0m expected an indented block\n"
     ]
    }
   ],
   "source": [
    "##\n",
    "count=0\n",
    "for i in range(0,219):\n",
    "    \n",
    "    print(traj.topology.residue(i))\n",
    "    res=traj.topology.residue(i)\n",
    "    Res=str(res)[3:]\n",
    "    #print(Res)\n",
    "    #print(count)\n",
    "    if Res!=str(count):\n",
    "        print(Res)\n",
    "    count=count+1\n",
    "#print(count)"
   ]
  },
  {
   "cell_type": "code",
   "execution_count": 135,
   "metadata": {},
   "outputs": [
    {
     "name": "stdout",
     "output_type": "stream",
     "text": [
      "<pyemma.coordinates.data.feature_reader.FeatureReader object at 0x7f3680234400>\n",
      "trajectory length =  35000\n",
      "number of dimension =  12\n"
     ]
    }
   ],
   "source": [
    "feat.add_minrmsd_to_ref(traj[0])\n",
    "inp = coor.source(trajfile, feat)\n",
    "print(inp)\n",
    "print('trajectory length = ',inp.trajectory_length(0))\n",
    "print('number of dimension = ',inp.dimension())"
   ]
  },
  {
   "cell_type": "code",
   "execution_count": 137,
   "metadata": {},
   "outputs": [
    {
     "name": "stdout",
     "output_type": "stream",
     "text": [
      "Projected data shape =  (35000, 3)\n",
      "Mean values:  [-0.01352142  0.00720704 -0.00932027]\n",
      "Variances:    [1.0253463 1.0047953 1.0034226]\n",
      "[911.59508712 509.77675497 410.42796897 303.57031241          nan]\n"
     ]
    },
    {
     "name": "stderr",
     "output_type": "stream",
     "text": [
      "/opt/anaconda3/lib/python3.6/site-packages/ipykernel_launcher.py:10: RuntimeWarning: invalid value encountered in log\n",
      "  # Remove the CWD from sys.path while we load stuff.\n",
      "/opt/anaconda3/lib/python3.6/site-packages/ipykernel_launcher.py:15: RuntimeWarning: divide by zero encountered in log\n",
      "  from ipykernel import kernelapp as app\n"
     ]
    },
    {
     "data": {
      "application/vnd.jupyter.widget-view+json": {
       "model_id": "d7cc59a936eb497583dc344124ab1086",
       "version_major": 2,
       "version_minor": 0
      },
      "text/plain": [
       "HBox(children=(HBox(children=(Label(value='initialize kmeans++ centers'),), layout=Layout(max_width='35%', min…"
      ]
     },
     "metadata": {},
     "output_type": "display_data"
    },
    {
     "data": {
      "application/vnd.jupyter.widget-view+json": {
       "model_id": "a432c8e4e7094b2490649ab285e7a60a",
       "version_major": 2,
       "version_minor": 0
      },
      "text/plain": [
       "HBox(children=(HBox(children=(Label(value='kmeans iterations'),), layout=Layout(max_width='35%', min_width='35…"
      ]
     },
     "metadata": {},
     "output_type": "display_data"
    },
    {
     "name": "stdout",
     "output_type": "stream",
     "text": [
      "04-11-18 06:22:05 pyemma.coordinates.clustering.kmeans.KmeansClustering[36] WARNING  Algorithm did not reach convergence criterion of 1e-05 in 10 iterations. Consider increasing max_iter.\n",
      "[array([ 5,  5,  5, ...,  6, 17, 17], dtype=int32)]\n",
      "35000\n"
     ]
    },
    {
     "data": {
      "image/png": "[encoded data removed]",
      "text/plain": [
       "<Figure size 432x288 with 1 Axes>"
      ]
     },
     "metadata": {
      "needs_background": "light"
     },
     "output_type": "display_data"
    }
   ],
   "source": [
    "lag=1000\n",
    "tica_obj = coor.tica(inp, lag=lag, var_cutoff=0.95, kinetic_map=False)\n",
    "# here we get the data that has been projected onto the first 2 IC's. It's a list, because we could generally\n",
    "# have a list of trajectories, so we just get the first element.\n",
    "Y = tica_obj.get_output()[0]\n",
    "print('Projected data shape = ', Y.shape)\n",
    "\n",
    "print('Mean values: ', np.mean(Y, axis=0))\n",
    "print('Variances:   ', np.var(Y, axis=0))\n",
    "print(-lag/np.log(tica_obj.eigenvalues[:5]))\n",
    " \n",
    "# histogram data\n",
    "z,x,y = np.histogram2d(Y[:,0],Y[:,1], bins=50)\n",
    "# compute free energies\n",
    "F = -np.log(z)\n",
    "# contour plot\n",
    "extent = [x[0], x[-1], y[0], y[-1]]\n",
    "contourf(F.T, 50, cmap=plt.cm.hot, extent=extent)\n",
    "\n",
    "cl = coor.cluster_kmeans(data=Y,k=20)\n",
    "\n",
    "#cl=coor.cluster_uniform_time(data=Y, )\n",
    "# for later use we save the discretetrajectories and cluster center coordinates:\n",
    "dtrajs = cl.dtrajs\n",
    "cc_x = cl.clustercenters[:,0]\n",
    "cc_y = cl.clustercenters[:,1]\n",
    " \n",
    " \n",
    "contourf(F.T, 50, cmap=plt.cm.hot, extent=extent)\n",
    "plot(cc_x,cc_y, linewidth=0, marker='o')\n",
    " \n",
    "print(dtrajs)\n",
    "print(np.size(dtrajs))\n"
   ]
  },
  {
   "cell_type": "code",
   "execution_count": 165,
   "metadata": {},
   "outputs": [
    {
     "name": "stdout",
     "output_type": "stream",
     "text": [
      "[-0.9070979  -0.10382464  0.27213818  1.462312   -0.4218093   0.9341136\n",
      " -0.7985725   0.32853818  0.28413087  0.20357832 -0.15489595  0.83207524\n",
      "  1.0823798   0.04216963  1.2269428   0.9689692  -2.2461834  -1.6548023\n",
      "  0.85639024 -1.3858418 ]\n",
      "[-1.1392723  -0.6406893   0.670212    0.17385975  0.9832789  -1.2434176\n",
      "  0.14043956 -0.07873771 -1.6307967  -0.11754949  1.0719994  -1.0669212\n",
      "  0.15786389  2.069457    1.4257292   2.1719785   0.01276813  1.0233815\n",
      "  0.42640015 -0.1907177 ]\n"
     ]
    },
    {
     "data": {
      "image/png": "[encoded data removed]",
      "text/plain": [
       "<Figure size 432x288 with 2 Axes>"
      ]
     },
     "metadata": {
      "needs_background": "light"
     },
     "output_type": "display_data"
    }
   ],
   "source": [
    "mplt.plot_free_energy(np.vstack(Y)[:,0], np.vstack(Y)[:,1])\n",
    "cc_x = cl.clustercenters[:,0]\n",
    "cc_y = cl.clustercenters[:,1]\n",
    "plot(cc_x,cc_y, linewidth=0, marker='o', markersize=5, color='black')\n",
    "\n",
    "plot(cc_x[16], cc_y[16],linewidth=0, marker='o', markersize=5, color=\"red\")\n",
    "plot(cc_x[7], cc_y[7],linewidth=0, marker='o', markersize=5, color=\"red\")\n",
    "plot(cc_x[3], cc_y[3],linewidth=0, marker='o', markersize=5, color=\"red\")\n",
    "\n",
    "print(cc_x)\n",
    "print(cc_y)"
   ]
  },
  {
   "cell_type": "code",
   "execution_count": 139,
   "metadata": {},
   "outputs": [
    {
     "data": {
      "text/plain": [
       "array([[ 0.05119673, -0.00439196,  0.06938441],\n",
       "       [ 0.0487583 ,  0.07684492,  0.00427713],\n",
       "       [ 0.00329557,  0.04059269, -0.0098932 ],\n",
       "       [ 0.50279382,  0.37225297, -0.70168208],\n",
       "       [-0.10644385,  0.03938872,  0.01749548],\n",
       "       [ 0.05567819,  0.01053296, -0.26695242],\n",
       "       [-0.84530593,  0.2336927 , -0.25529595],\n",
       "       [-0.01074839, -0.21788376,  0.14396821],\n",
       "       [ 0.20051536,  0.10106722, -0.13856134],\n",
       "       [ 0.24785353, -0.16574521,  0.22401976],\n",
       "       [-0.07395636,  0.04837702,  0.0818202 ],\n",
       "       [-0.20650364,  0.67356478,  0.62774396]])"
      ]
     },
     "execution_count": 139,
     "metadata": {},
     "output_type": "execute_result"
    }
   ],
   "source": [
    "tica_obj.feature_TIC_correlation"
   ]
  },
  {
   "cell_type": "code",
   "execution_count": 140,
   "metadata": {},
   "outputs": [
    {
     "data": {
      "text/plain": [
       "array([0.7822967 , 0.92107874, 0.97476882, 0.98442822, 0.98984175,\n",
       "       0.99450461, 0.99785248, 0.99968597, 0.99985107, 0.99998884,\n",
       "       0.99999943, 1.        ])"
      ]
     },
     "execution_count": 140,
     "metadata": {},
     "output_type": "execute_result"
    }
   ],
   "source": [
    "tica_obj.cumvar"
   ]
  },
  {
   "cell_type": "code",
   "execution_count": 147,
   "metadata": {},
   "outputs": [
    {
     "name": "stdout",
     "output_type": "stream",
     "text": [
      "[array([ 5,  5,  5, ...,  6, 17, 17], dtype=int32)]\n",
      "[ 5  5  5 ...  6 17 17]\n"
     ]
    }
   ],
   "source": [
    "print(dtrajs)\n",
    "dtraj=max(dtrajs)\n",
    "print(dtraj)\n"
   ]
  },
  {
   "cell_type": "code",
   "execution_count": 151,
   "metadata": {},
   "outputs": [],
   "source": [
    "Clusters={}\n",
    "\n",
    "for count in range(0,20):\n",
    "    frames=[]\n",
    "    indices = [d for d, x in enumerate(dtraj) if x == count]\n",
    "    frames.append(indices)\n",
    "    Clusters[count]=frames\n",
    "#print(Clusters)\n"
   ]
  },
  {
   "cell_type": "code",
   "execution_count": 150,
   "metadata": {},
   "outputs": [
    {
     "name": "stdout",
     "output_type": "stream",
     "text": [
      "0\n",
      "<mdtraj.Trajectory with 1922 frames, 3324 atoms, 220 residues, and unitcells>\n"
     ]
    },
    {
     "name": "stderr",
     "output_type": "stream",
     "text": [
      "/opt/anaconda3/lib/python3.6/site-packages/mdtraj/core/trajectory.py:1118: FutureWarning: Using a non-tuple sequence for multidimensional indexing is deprecated; use `arr[tuple(seq)]` instead of `arr[seq]`. In the future this will be interpreted as an array index, `arr[np.array(seq)]`, which will result either in an error or a different result.\n",
      "  xyz = self.xyz[key]\n",
      "/opt/anaconda3/lib/python3.6/site-packages/mdtraj/core/trajectory.py:1119: FutureWarning: Using a non-tuple sequence for multidimensional indexing is deprecated; use `arr[tuple(seq)]` instead of `arr[seq]`. In the future this will be interpreted as an array index, `arr[np.array(seq)]`, which will result either in an error or a different result.\n",
      "  time = self.time[key]\n",
      "/opt/anaconda3/lib/python3.6/site-packages/mdtraj/core/trajectory.py:1123: FutureWarning: Using a non-tuple sequence for multidimensional indexing is deprecated; use `arr[tuple(seq)]` instead of `arr[seq]`. In the future this will be interpreted as an array index, `arr[np.array(seq)]`, which will result either in an error or a different result.\n",
      "  unitcell_angles = self.unitcell_angles[key]\n",
      "/opt/anaconda3/lib/python3.6/site-packages/mdtraj/core/trajectory.py:1125: FutureWarning: Using a non-tuple sequence for multidimensional indexing is deprecated; use `arr[tuple(seq)]` instead of `arr[seq]`. In the future this will be interpreted as an array index, `arr[np.array(seq)]`, which will result either in an error or a different result.\n",
      "  unitcell_lengths = self.unitcell_lengths[key]\n"
     ]
    },
    {
     "name": "stdout",
     "output_type": "stream",
     "text": [
      "1\n",
      "<mdtraj.Trajectory with 3172 frames, 3324 atoms, 220 residues, and unitcells>\n",
      "2\n",
      "<mdtraj.Trajectory with 1289 frames, 3324 atoms, 220 residues, and unitcells>\n",
      "3\n",
      "<mdtraj.Trajectory with 1291 frames, 3324 atoms, 220 residues, and unitcells>\n",
      "4\n",
      "<mdtraj.Trajectory with 1924 frames, 3324 atoms, 220 residues, and unitcells>\n",
      "5\n",
      "<mdtraj.Trajectory with 1016 frames, 3324 atoms, 220 residues, and unitcells>\n",
      "6\n",
      "<mdtraj.Trajectory with 2786 frames, 3324 atoms, 220 residues, and unitcells>\n",
      "7\n",
      "<mdtraj.Trajectory with 2846 frames, 3324 atoms, 220 residues, and unitcells>\n",
      "8\n",
      "<mdtraj.Trajectory with 2091 frames, 3324 atoms, 220 residues, and unitcells>\n",
      "9\n",
      "<mdtraj.Trajectory with 1238 frames, 3324 atoms, 220 residues, and unitcells>\n",
      "10\n",
      "<mdtraj.Trajectory with 1260 frames, 3324 atoms, 220 residues, and unitcells>\n",
      "11\n",
      "<mdtraj.Trajectory with 2469 frames, 3324 atoms, 220 residues, and unitcells>\n",
      "12\n",
      "<mdtraj.Trajectory with 2134 frames, 3324 atoms, 220 residues, and unitcells>\n",
      "13\n",
      "<mdtraj.Trajectory with 860 frames, 3324 atoms, 220 residues, and unitcells>\n",
      "14\n",
      "<mdtraj.Trajectory with 1621 frames, 3324 atoms, 220 residues, and unitcells>\n",
      "15\n",
      "<mdtraj.Trajectory with 494 frames, 3324 atoms, 220 residues, and unitcells>\n",
      "16\n",
      "<mdtraj.Trajectory with 1156 frames, 3324 atoms, 220 residues, and unitcells>\n",
      "17\n",
      "<mdtraj.Trajectory with 1737 frames, 3324 atoms, 220 residues, and unitcells>\n",
      "18\n",
      "<mdtraj.Trajectory with 1544 frames, 3324 atoms, 220 residues, and unitcells>\n",
      "19\n",
      "<mdtraj.Trajectory with 2150 frames, 3324 atoms, 220 residues, and unitcells>\n"
     ]
    }
   ],
   "source": [
    "for key in Clusters:\n",
    "    print(key)\n",
    "    a=traj[Clusters[key]]\n",
    "    print(a)\n",
    "    a.save_xtc('TICA_res_dis_Traj/Trajcluster_all'+str(key)+\".xtc\")"
   ]
  },
  {
   "cell_type": "code",
   "execution_count": 160,
   "metadata": {},
   "outputs": [
    {
     "name": "stdout",
     "output_type": "stream",
     "text": [
      "[0.023184005, 0.0386859, 0.023661435, 0.10176873, 0.024581036, 0.1241349, 0.07170446, 0.04500388, 0.023534281, 0.05841915, 0.043610882, 0.023758207, 0.02084267, 0.09018902, 0.057337344, 0.27100614, 0.058167208, 0.08194924, 0.016219638, 0.039722376]\n",
      "[ 4293. 13381. 21592. 22959.  4359. 14185.  8513. 18748.  1544. 24065.\n",
      "  5041.  2001. 14212. 23748.   656. 20649. 32695. 32297. 17334. 25035.]\n"
     ]
    }
   ],
   "source": [
    "avg = [100, 100, 100, 100, 100,100, 100, 100, 100, 100,100, 100, 100, 100, 100,100, 100, 100, 100, 100]\n",
    "indices = np.zeros(20)\n",
    "for i in range(len(Y)):\n",
    "    c = cl.clustercenters[cl.dtrajs[0][i]]\n",
    "    \n",
    "    v = Y[i]\n",
    "    \n",
    "    newavg = np.linalg.norm(c-v)\n",
    "   \n",
    "    if avg[cl.dtrajs[0][i]] > newavg:\n",
    "        avg[cl.dtrajs[0][i]] = newavg\n",
    "        indices[cl.dtrajs[0][i]] = i\n",
    "        \n",
    "print(avg)\n",
    "print(indices)\n",
    "\n",
    "for i in range(len(avg)):\n",
    "    traj[i].save_pdb('testing_pdb_res%s.pdb' % i)"
   ]
  },
  {
   "cell_type": "code",
   "execution_count": 179,
   "metadata": {},
   "outputs": [
    {
     "name": "stdout",
     "output_type": "stream",
     "text": [
      "['/home/cychen/TICA/Trajcluster1.xtc', '/home/cychen/TICA/Trajcluster3.xtc', '/home/cychen/TICA/Trajcluster5.xtc', '/home/cychen/TICA/Trajcluster7.xtc', '/home/cychen/TICA/Trajcluster8.xtc', '/home/cychen/TICA/Trajcluster10.xtc', '/home/cychen/TICA/Trajcluster12.xtc', '/home/cychen/TICA/Trajcluster14.xtc', '/home/cychen/TICA/Trajcluster16.xtc', '/home/cychen/TICA/Trajcluster18.xtc', '/home/cychen/TICA/site.xtc', '/home/cychen/TICA/Trajcluster0.xtc', '/home/cychen/TICA/Trajcluster2.xtc', '/home/cychen/TICA/Trajcluster4.xtc', '/home/cychen/TICA/Trajcluster6.xtc', '/home/cychen/TICA/Trajcluster9.xtc', '/home/cychen/TICA/Trajcluster11.xtc', '/home/cychen/TICA/Trajcluster13.xtc', '/home/cychen/TICA/Trajcluster15.xtc', '/home/cychen/TICA/Trajcluster17.xtc', '/home/cychen/TICA/Trajcluster19.xtc']\n"
     ]
    }
   ],
   "source": [
    "import glob\n",
    "\n",
    "path=\"/home/cychen/TICA/*.xtc\"\n",
    "\n",
    "files=glob.glob(path)\n",
    "\n",
    "print(files)\n"
   ]
  },
  {
   "cell_type": "code",
   "execution_count": null,
   "metadata": {},
   "outputs": [],
   "source": [
    "for i in files:\n",
    "    count=0\n",
    "    traj=md.load(i, top=\"system.prmtop\")\n",
    "    \n",
    "    traj.save_pdb(\"Trajcluster\"+str(count)+\".pdb\")\n",
    "    count=count+1"
   ]
  },
  {
   "cell_type": "code",
   "execution_count": 178,
   "metadata": {},
   "outputs": [
    {
     "data": {
      "text/plain": [
       "'/home/cychen/TICA'"
      ]
     },
     "execution_count": 178,
     "metadata": {},
     "output_type": "execute_result"
    }
   ],
   "source": [
    "pwd"
   ]
  }
 ],
 "metadata": {
  "kernelspec": {
   "display_name": "Python 3",
   "language": "python",
   "name": "python3"
  },
  "language_info": {
   "codemirror_mode": {
    "name": "ipython",
    "version": 3
   },
   "file_extension": ".py",
   "mimetype": "text/x-python",
   "name": "python",
   "nbconvert_exporter": "python",
   "pygments_lexer": "ipython3",
   "version": "3.6.6"
  }
 },
 "nbformat": 4,
 "nbformat_minor": 2
}
