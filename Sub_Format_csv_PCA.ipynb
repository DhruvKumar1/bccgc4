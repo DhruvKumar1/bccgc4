{
 "cells": [
  {
   "cell_type": "code",
   "execution_count": 91,
   "metadata": {},
   "outputs": [],
   "source": [
    "#path and making a list of all ligands\n",
    "path = \"/net/jam-amaro-shared/bccgc4/xtaldocking/PCA_docking_DONE\"\n",
    "\n",
    "ligands = [] #list of all ligands\n",
    "for k in range(1,460):\n",
    "    lig = 'CatS_'+str(k)\n",
    "    ligands.append(lig)\n",
    "    \n",
    "#print(ligands)\n"
   ]
  },
  {
   "cell_type": "code",
   "execution_count": 92,
   "metadata": {},
   "outputs": [
    {
     "name": "stdout",
     "output_type": "stream",
     "text": [
      "459\n"
     ]
    }
   ],
   "source": [
    "min_lig = [] #list of ligands & their corresponding receptors with the minimum score\n",
    "for i in ligands:\n",
    "        lig = []\n",
    "        with open(path+\"/Docking_Results/score.txt\") as scores:\n",
    "            for line in scores:\n",
    "                if \" \"+i+\" \" in line:\n",
    "                    lig.append(line)\n",
    "        #print(lig)\n",
    "        nums = []\n",
    "        for l in lig:\n",
    "            if \"-\" in l:\n",
    "                index = l.find(\"-\")\n",
    "                nums.append(l[index:])\n",
    "            else:\n",
    "                ind = l.find(\"CatS_** \")\n",
    "                nums.append(l[ind:])\n",
    "        #print(nums)\n",
    "        min_score = max(nums) #I used max because it takes the largest magnitude\n",
    "        #print(min_score)\n",
    "        for l in lig:\n",
    "            if str(min_score) in l:\n",
    "                min_lig.append(l)\n",
    "print(len(min_lig))"
   ]
  },
  {
   "cell_type": "code",
   "execution_count": 96,
   "metadata": {},
   "outputs": [
    {
     "name": "stdout",
     "output_type": "stream",
     "text": [
      "459\n"
     ]
    }
   ],
   "source": [
    "numbers = [] #list of min scores\n",
    "for x in min_lig:\n",
    "    delete = x.find(\"\\n\")\n",
    "    new = x[:delete]\n",
    "    if \"-\" in new:\n",
    "        index = new.find(\"-\")\n",
    "        numbers.append(new[index:])\n",
    "    else:\n",
    "        ind = new.find(\"CatS_*** \")\n",
    "        print(new[ind:])\n",
    "        nums.append(new[ind:])\n",
    "\n",
    "numbers = [float(y) for y in numbers]\n",
    "#print(numbers)\n",
    "ordered_scores = sorted(numbers) #ordered scores\n",
    "print(len(ordered_scores))"
   ]
  },
  {
   "cell_type": "code",
   "execution_count": 109,
   "metadata": {},
   "outputs": [],
   "source": [
    "ordered_list = [] #list of receptor to ligand to score ordered by rank\n",
    "for o in ordered_scores:\n",
    "    for u in min_lig:\n",
    "        if str(o) in u:\n",
    "            ordered_list.append(u)\n",
    "#print(ordered_list)"
   ]
  },
  {
   "cell_type": "code",
   "execution_count": 129,
   "metadata": {},
   "outputs": [],
   "source": [
    "import csv \n",
    "\n",
    "lig_rank_score = [] #list of lig to rank to score\n",
    "for e in range(0,459):\n",
    "    p = ordered_list[e]\n",
    "    sl = p.find(\"CatS_\")\n",
    "    delete = p.find(\"\\n\")\n",
    "    a = p[sl:delete]\n",
    "    \n",
    "    sli = a.find(\"-\")\n",
    "    cats = a.find(\"CatS_\")\n",
    "    string = []\n",
    "    string.append(str(a[cats:sli]))\n",
    "    string.append(str(e+1))\n",
    "    string.append(str(a[sli:]))\n",
    "    #print(string)\n",
    "    lig_rank_score.append(string)\n",
    "\n",
    "#print(lig_rank_score)\n",
    "line1 = []\n",
    "ty = 'Type: energy'\n",
    "line1.append(ty)\n",
    "\n",
    "with open('/net/jam-amaro-shared/bccgc4/Sub_Format/PCA_Sub/LigandScores.csv', 'w') as writeFile:\n",
    "    writer = csv.writer(writeFile)\n",
    "    writer.writerow(line1)\n",
    "    writer.writerows(lig_rank_score)\n",
    "    \n",
    "writeFile.close()\n",
    "\n",
    "        "
   ]
  },
  {
   "cell_type": "code",
   "execution_count": null,
   "metadata": {},
   "outputs": [],
   "source": []
  }
 ],
 "metadata": {
  "kernelspec": {
   "display_name": "Python 3",
   "language": "python",
   "name": "python3"
  },
  "language_info": {
   "codemirror_mode": {
    "name": "ipython",
    "version": 3
   },
   "file_extension": ".py",
   "mimetype": "text/x-python",
   "name": "python",
   "nbconvert_exporter": "python",
   "pygments_lexer": "ipython3",
   "version": "3.6.6"
  }
 },
 "nbformat": 4,
 "nbformat_minor": 2
}
