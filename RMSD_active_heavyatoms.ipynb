{
 "cells": [
  {
   "cell_type": "code",
   "execution_count": 40,
   "metadata": {},
   "outputs": [],
   "source": [
    "from __future__ import print_function\n",
    "%matplotlib inline\n",
    "import mdtraj as md\n",
    "import numpy as np\n",
    "import matplotlib.pyplot as plt\n",
    "import scipy.cluster.hierarchy as hcl\n",
    "from scipy.spatial.distance import squareform"
   ]
  },
  {
   "cell_type": "code",
   "execution_count": 68,
   "metadata": {},
   "outputs": [
    {
     "name": "stdout",
     "output_type": "stream",
     "text": [
      "[1028 1029 1030 1031 1032 1033 1034 1035 1036 1037 1038 1039 1040 1041\n",
      " 1042 1043 1044 1045 1046 1047 1065 1066 1067 1068 1069 1070 1071 1072\n",
      " 1073 1074 1075 1076 1077 1078 2475 2476 2477 2478 2479 2480 2481 2482\n",
      " 2483 2484 2485 2486 2487 2488 2489 2490 2491 2492 2493 2494 2495 2496\n",
      " 2497 2498 2499 2500 2501 2502 2503 2504 2505 2506 2507 2508 2509 2510\n",
      " 2511 2512 3204 3205 3206 3207 3208 3209 3210 3211 3212 3213 3214 3215\n",
      " 3216 3217 3218 3219 3220 3221 3222 3223]\n",
      "921\n"
     ]
    }
   ],
   "source": [
    "\n",
    "Traj=md.load(\"/net/jam-amaro-shared/bccgc4/Strided_Traj/joined_traj_stride10.xtc\", top= \"protein.h5\")\n",
    "selection=Traj.topology.select(\"protein\")\n",
    "traj=Traj.atom_slice(selection)\n",
    "selection=traj.topology.select(\"resid 166 or resid 71 or resid 212 or resid 164 or resid 73 or resid 165\")\n",
    "print(selection)\n",
    "active_site=md.compute_neighbors(traj[0], 0.8, selection)\n",
    "#print(active_site)\n",
    "#print(traj)\n",
    "print(np.size(active_site))\n",
    "traj=traj.atom_slice(active_site[0])"
   ]
  },
  {
   "cell_type": "code",
   "execution_count": 42,
   "metadata": {},
   "outputs": [
    {
     "name": "stdout",
     "output_type": "stream",
     "text": [
      "<mdtraj.Trajectory with 35000 frames, 921 atoms, 92 residues, and unitcells>\n",
      "<mdtraj.Trajectory with 35000 frames, 487 atoms, 88 residues, and unitcells>\n"
     ]
    }
   ],
   "source": [
    "print(traj)\n",
    "heavy=traj.topology.select(\"symbol != H\")\n",
    "traj=traj.atom_slice(heavy)\n",
    "print(traj)\n"
   ]
  },
  {
   "cell_type": "code",
   "execution_count": 44,
   "metadata": {},
   "outputs": [],
   "source": [
    "strided_traj=traj[::5]"
   ]
  },
  {
   "cell_type": "code",
   "execution_count": 79,
   "metadata": {},
   "outputs": [
    {
     "name": "stdout",
     "output_type": "stream",
     "text": [
      "Max pairwise rmsd: 0.212739 nm\n",
      "[[0.         0.09019616 0.08511469 ... 0.13778631 0.1420985  0.13792813]\n",
      " [0.09019616 0.         0.07604224 ... 0.14945941 0.14462757 0.1422466 ]\n",
      " [0.08511469 0.07604224 0.         ... 0.13924305 0.14137875 0.13237913]\n",
      " ...\n",
      " [0.13778631 0.14945941 0.13924305 ... 0.         0.10518809 0.07981363]\n",
      " [0.14209762 0.14462757 0.14137875 ... 0.10518809 0.         0.08664265]\n",
      " [0.13792813 0.1422466  0.13237913 ... 0.07981363 0.08664265 0.        ]]\n"
     ]
    }
   ],
   "source": [
    "distances = np.empty((strided_traj.n_frames, strided_traj.n_frames))\n",
    "for i in range(strided_traj.n_frames):\n",
    "    distances[i] = md.rmsd(strided_traj, strided_traj, i)\n",
    "print('Max pairwise rmsd: %f nm' % np.max(distances))\n",
    "print(distances)"
   ]
  },
  {
   "cell_type": "code",
   "execution_count": 94,
   "metadata": {},
   "outputs": [
    {
     "name": "stdout",
     "output_type": "stream",
     "text": [
      "[[0.         0.09019616 0.08511469 ... 0.13778631 0.1420985  0.13792813]\n",
      " [0.09019616 0.         0.07604224 ... 0.14945941 0.14462757 0.1422466 ]\n",
      " [0.08511469 0.07604224 0.         ... 0.13924305 0.14137875 0.13237913]\n",
      " ...\n",
      " [0.13778631 0.14945941 0.13924305 ... 0.         0.10518809 0.07981363]\n",
      " [0.14209762 0.14462757 0.14137875 ... 0.10518809 0.         0.08664265]\n",
      " [0.13792813 0.1422466  0.13237913 ... 0.07981363 0.08664265 0.        ]]\n",
      "49000000\n"
     ]
    }
   ],
   "source": [
    "print(distances)\n",
    "print(np.size(distances))"
   ]
  },
  {
   "cell_type": "code",
   "execution_count": 82,
   "metadata": {},
   "outputs": [
    {
     "name": "stdout",
     "output_type": "stream",
     "text": [
      "0.21273870766162872\n"
     ]
    }
   ],
   "source": [
    "#assert np.all(distances - distances.T < 1e-6)\n",
    "reduced_distances = squareform(distances, checks=False)\n",
    "print(np.max(reduced_distances))\n"
   ]
  },
  {
   "cell_type": "code",
   "execution_count": 92,
   "metadata": {},
   "outputs": [
    {
     "name": "stdout",
     "output_type": "stream",
     "text": [
      "[[ 0.0000000e+00  0.0000000e+00  0.0000000e+00 ...  0.0000000e+00\n",
      "   8.7916851e-07  0.0000000e+00]\n",
      " [ 0.0000000e+00  0.0000000e+00  0.0000000e+00 ...  0.0000000e+00\n",
      "   0.0000000e+00  0.0000000e+00]\n",
      " [ 0.0000000e+00  0.0000000e+00  0.0000000e+00 ...  0.0000000e+00\n",
      "   0.0000000e+00  0.0000000e+00]\n",
      " ...\n",
      " [ 0.0000000e+00  0.0000000e+00  0.0000000e+00 ...  0.0000000e+00\n",
      "   0.0000000e+00  0.0000000e+00]\n",
      " [-8.7916851e-07  0.0000000e+00  0.0000000e+00 ...  0.0000000e+00\n",
      "   0.0000000e+00  0.0000000e+00]\n",
      " [ 0.0000000e+00  0.0000000e+00  0.0000000e+00 ...  0.0000000e+00\n",
      "   0.0000000e+00  0.0000000e+00]]\n"
     ]
    }
   ],
   "source": [
    "print(distances-distances.T)"
   ]
  },
  {
   "cell_type": "code",
   "execution_count": 95,
   "metadata": {},
   "outputs": [],
   "source": [
    "assert np.all(distances - distances.T < 1e-5) !!!!!!!##### um"
   ]
  },
  {
   "cell_type": "code",
   "execution_count": 83,
   "metadata": {},
   "outputs": [],
   "source": [
    "linkage = hcl.linkage(reduced_distances, method='average')"
   ]
  },
  {
   "cell_type": "code",
   "execution_count": 48,
   "metadata": {},
   "outputs": [
    {
     "data": {
      "image/png": "[encoded data removed]",
      "text/plain": [
       "<Figure size 432x288 with 1 Axes>"
      ]
     },
     "metadata": {
      "needs_background": "light"
     },
     "output_type": "display_data"
    }
   ],
   "source": [
    "plt.title('RMSD Average linkage hierarchical clustering')\n",
    "_ = hcl.dendrogram(linkage, no_labels=True, count_sort='descendent')"
   ]
  },
  {
   "cell_type": "code",
   "execution_count": 49,
   "metadata": {},
   "outputs": [
    {
     "name": "stdout",
     "output_type": "stream",
     "text": [
      "[[2.80000000e+03 5.60000000e+03 5.79855405e-02 2.00000000e+00]\n",
      " [2.77900000e+03 2.78000000e+03 5.90690747e-02 2.00000000e+00]\n",
      " [2.59900000e+03 2.60200000e+03 5.91305718e-02 2.00000000e+00]\n",
      " ...\n",
      " [2.28000000e+02 1.39950000e+04 1.42039450e-01 6.94000000e+03]\n",
      " [1.36440000e+04 1.39960000e+04 1.42766675e-01 6.94200000e+03]\n",
      " [1.39830000e+04 1.39970000e+04 1.45939471e-01 7.00000000e+03]]\n"
     ]
    }
   ],
   "source": [
    "print(linkage)"
   ]
  },
  {
   "cell_type": "code",
   "execution_count": 50,
   "metadata": {},
   "outputs": [],
   "source": [
    "Z= hcl.linkage(reduced_distances, method=\"average\")"
   ]
  },
  {
   "cell_type": "code",
   "execution_count": 91,
   "metadata": {},
   "outputs": [
    {
     "name": "stdout",
     "output_type": "stream",
     "text": [
      "0.1256000000000025\n",
      "[16 16 16 ...  8  8  8]\n",
      "20\n",
      "1\n"
     ]
    }
   ],
   "source": [
    "f=0\n",
    "\n",
    "for i in range(1,10000):\n",
    "    f=f+0.0001\n",
    "    clusters=hcl.fcluster(Z, float(f),criterion=\"distance\")\n",
    "    #print(max(clusters))\n",
    "    if max(clusters)==20:\n",
    "        print(f)\n",
    "        break\n",
    "        \n",
    "clusters=hcl.fcluster(Z, float(f),criterion=\"distance\")\n",
    "print(clusters)\n",
    "print(max(clusters))\n",
    "print(min(clusters))"
   ]
  },
  {
   "cell_type": "code",
   "execution_count": 86,
   "metadata": {},
   "outputs": [
    {
     "name": "stdout",
     "output_type": "stream",
     "text": [
      "0\n"
     ]
    }
   ],
   "source": [
    "print(cutoff)"
   ]
  },
  {
   "cell_type": "code",
   "execution_count": null,
   "metadata": {},
   "outputs": [],
   "source": [
    "float=0"
   ]
  },
  {
   "cell_type": "code",
   "execution_count": 65,
   "metadata": {},
   "outputs": [],
   "source": [
    "Clusters={}\n",
    "\n",
    "for count in range(1,21):\n",
    "    frames=[]\n",
    "    indices = [d for d, x in enumerate(clusters) if x == count]\n",
    "    frames.append(indices)\n",
    "    Clusters[count]=frames\n",
    "   \n",
    "#print(Clusters)\n"
   ]
  },
  {
   "cell_type": "code",
   "execution_count": 69,
   "metadata": {},
   "outputs": [
    {
     "name": "stdout",
     "output_type": "stream",
     "text": [
      "1\n",
      "<mdtraj.Trajectory with 2 frames, 3324 atoms, 220 residues, and unitcells>\n",
      "2\n",
      "<mdtraj.Trajectory with 56 frames, 3324 atoms, 220 residues, and unitcells>\n",
      "3\n",
      "<mdtraj.Trajectory with 2 frames, 3324 atoms, 220 residues, and unitcells>\n",
      "4\n",
      "<mdtraj.Trajectory with 2 frames, 3324 atoms, 220 residues, and unitcells>\n",
      "5\n",
      "<mdtraj.Trajectory with 9 frames, 3324 atoms, 220 residues, and unitcells>\n",
      "6\n",
      "<mdtraj.Trajectory with 3 frames, 3324 atoms, 220 residues, and unitcells>\n",
      "7\n",
      "<mdtraj.Trajectory with 2 frames, 3324 atoms, 220 residues, and unitcells>\n",
      "8\n"
     ]
    },
    {
     "name": "stderr",
     "output_type": "stream",
     "text": [
      "/opt/anaconda3/lib/python3.6/site-packages/mdtraj/core/trajectory.py:1118: FutureWarning: Using a non-tuple sequence for multidimensional indexing is deprecated; use `arr[tuple(seq)]` instead of `arr[seq]`. In the future this will be interpreted as an array index, `arr[np.array(seq)]`, which will result either in an error or a different result.\n",
      "  xyz = self.xyz[key]\n",
      "/opt/anaconda3/lib/python3.6/site-packages/mdtraj/core/trajectory.py:1119: FutureWarning: Using a non-tuple sequence for multidimensional indexing is deprecated; use `arr[tuple(seq)]` instead of `arr[seq]`. In the future this will be interpreted as an array index, `arr[np.array(seq)]`, which will result either in an error or a different result.\n",
      "  time = self.time[key]\n",
      "/opt/anaconda3/lib/python3.6/site-packages/mdtraj/core/trajectory.py:1123: FutureWarning: Using a non-tuple sequence for multidimensional indexing is deprecated; use `arr[tuple(seq)]` instead of `arr[seq]`. In the future this will be interpreted as an array index, `arr[np.array(seq)]`, which will result either in an error or a different result.\n",
      "  unitcell_angles = self.unitcell_angles[key]\n",
      "/opt/anaconda3/lib/python3.6/site-packages/mdtraj/core/trajectory.py:1125: FutureWarning: Using a non-tuple sequence for multidimensional indexing is deprecated; use `arr[tuple(seq)]` instead of `arr[seq]`. In the future this will be interpreted as an array index, `arr[np.array(seq)]`, which will result either in an error or a different result.\n",
      "  unitcell_lengths = self.unitcell_lengths[key]\n"
     ]
    },
    {
     "name": "stdout",
     "output_type": "stream",
     "text": [
      "<mdtraj.Trajectory with 793 frames, 3324 atoms, 220 residues, and unitcells>\n",
      "9\n",
      "<mdtraj.Trajectory with 4 frames, 3324 atoms, 220 residues, and unitcells>\n",
      "10\n",
      "<mdtraj.Trajectory with 4 frames, 3324 atoms, 220 residues, and unitcells>\n",
      "11\n",
      "<mdtraj.Trajectory with 35 frames, 3324 atoms, 220 residues, and unitcells>\n",
      "12\n",
      "<mdtraj.Trajectory with 2 frames, 3324 atoms, 220 residues, and unitcells>\n",
      "13\n",
      "<mdtraj.Trajectory with 111 frames, 3324 atoms, 220 residues, and unitcells>\n",
      "14\n",
      "<mdtraj.Trajectory with 10 frames, 3324 atoms, 220 residues, and unitcells>\n",
      "15\n",
      "<mdtraj.Trajectory with 5 frames, 3324 atoms, 220 residues, and unitcells>\n",
      "16\n",
      "<mdtraj.Trajectory with 2221 frames, 3324 atoms, 220 residues, and unitcells>\n",
      "17\n",
      "<mdtraj.Trajectory with 3718 frames, 3324 atoms, 220 residues, and unitcells>\n",
      "18\n",
      "<mdtraj.Trajectory with 19 frames, 3324 atoms, 220 residues, and unitcells>\n",
      "19\n",
      "<mdtraj.Trajectory with 1 frames, 3324 atoms, 220 residues, and unitcells>\n",
      "20\n",
      "<mdtraj.Trajectory with 1 frames, 3324 atoms, 220 residues, and unitcells>\n"
     ]
    }
   ],
   "source": [
    "for key in Clusters:\n",
    "    print(key)\n",
    "    a=Traj[Clusters[key]]\n",
    "    print(a)\n",
    "    a.save_xtc('RMSD_Traj/Trajcluster'+str(key)+\".xtc\")\n"
   ]
  },
  {
   "cell_type": "code",
   "execution_count": 75,
   "metadata": {},
   "outputs": [
    {
     "name": "stdout",
     "output_type": "stream",
     "text": [
      "['RMSD_Traj/Trajcluster1.xtc', 'RMSD_Traj/Trajcluster2.xtc', 'RMSD_Traj/Trajcluster3.xtc', 'RMSD_Traj/Trajcluster4.xtc', 'RMSD_Traj/Trajcluster5.xtc', 'RMSD_Traj/Trajcluster6.xtc', 'RMSD_Traj/Trajcluster7.xtc', 'RMSD_Traj/Trajcluster8.xtc', 'RMSD_Traj/Trajcluster9.xtc', 'RMSD_Traj/Trajcluster10.xtc', 'RMSD_Traj/Trajcluster11.xtc', 'RMSD_Traj/Trajcluster12.xtc', 'RMSD_Traj/Trajcluster13.xtc', 'RMSD_Traj/Trajcluster14.xtc', 'RMSD_Traj/Trajcluster15.xtc', 'RMSD_Traj/Trajcluster16.xtc', 'RMSD_Traj/Trajcluster17.xtc', 'RMSD_Traj/Trajcluster18.xtc', 'RMSD_Traj/Trajcluster19.xtc', 'RMSD_Traj/Trajcluster20.xtc']\n",
      "1\n",
      "<mdtraj.Trajectory with 1 frames, 3324 atoms, 220 residues, and unitcells>\n",
      "18\n",
      "<mdtraj.Trajectory with 1 frames, 3324 atoms, 220 residues, and unitcells>\n",
      "0\n",
      "<mdtraj.Trajectory with 1 frames, 3324 atoms, 220 residues, and unitcells>\n",
      "1\n",
      "<mdtraj.Trajectory with 1 frames, 3324 atoms, 220 residues, and unitcells>\n",
      "2\n",
      "<mdtraj.Trajectory with 1 frames, 3324 atoms, 220 residues, and unitcells>\n",
      "0\n",
      "<mdtraj.Trajectory with 1 frames, 3324 atoms, 220 residues, and unitcells>\n",
      "0\n",
      "<mdtraj.Trajectory with 1 frames, 3324 atoms, 220 residues, and unitcells>\n",
      "418\n",
      "<mdtraj.Trajectory with 1 frames, 3324 atoms, 220 residues, and unitcells>\n",
      "1\n",
      "<mdtraj.Trajectory with 1 frames, 3324 atoms, 220 residues, and unitcells>\n",
      "1\n",
      "<mdtraj.Trajectory with 1 frames, 3324 atoms, 220 residues, and unitcells>\n",
      "23\n",
      "<mdtraj.Trajectory with 1 frames, 3324 atoms, 220 residues, and unitcells>\n",
      "0\n",
      "<mdtraj.Trajectory with 1 frames, 3324 atoms, 220 residues, and unitcells>\n",
      "86\n",
      "<mdtraj.Trajectory with 1 frames, 3324 atoms, 220 residues, and unitcells>\n",
      "2\n",
      "<mdtraj.Trajectory with 1 frames, 3324 atoms, 220 residues, and unitcells>\n",
      "2\n",
      "<mdtraj.Trajectory with 1 frames, 3324 atoms, 220 residues, and unitcells>\n",
      "1167\n",
      "<mdtraj.Trajectory with 1 frames, 3324 atoms, 220 residues, and unitcells>\n",
      "1022\n",
      "<mdtraj.Trajectory with 1 frames, 3324 atoms, 220 residues, and unitcells>\n",
      "5\n",
      "<mdtraj.Trajectory with 1 frames, 3324 atoms, 220 residues, and unitcells>\n"
     ]
    },
    {
     "name": "stderr",
     "output_type": "stream",
     "text": [
      "/opt/anaconda3/lib/python3.6/site-packages/ipykernel_launcher.py:14: RuntimeWarning: divide by zero encountered in true_divide\n",
      "  \n"
     ]
    },
    {
     "name": "stdout",
     "output_type": "stream",
     "text": [
      "0\n",
      "<mdtraj.Trajectory with 1 frames, 3324 atoms, 220 residues, and unitcells>\n",
      "0\n",
      "<mdtraj.Trajectory with 1 frames, 3324 atoms, 220 residues, and unitcells>\n"
     ]
    },
    {
     "name": "stderr",
     "output_type": "stream",
     "text": [
      "/opt/anaconda3/lib/python3.6/site-packages/ipykernel_launcher.py:14: RuntimeWarning: invalid value encountered in true_divide\n",
      "  \n"
     ]
    }
   ],
   "source": [
    "\n",
    "path=\"RMSD_Traj/*.xtc\"\n",
    "files=glob.glob(path)\n",
    "print(files)\n",
    "count=1\n",
    "for k in files:\n",
    "\n",
    "    t = md.load(k, top=\"protein.h5\")\n",
    "    atom_indices = [a.index for a in t.topology.atoms if a.element.symbol != 'H']\n",
    "    distances = np.empty((t.n_frames, t.n_frames))\n",
    "    for i in range(t.n_frames):\n",
    "        distances[i] = md.rmsd(t, t, i, atom_indices=atom_indices)\n",
    "    beta = 1\n",
    "    index = np.exp(-beta*distances / distances.std()).sum(axis=1).argmax()\n",
    "    print(index)\n",
    "    \n",
    "    centroid = t[index]\n",
    "    print(centroid)\n",
    "    centroid.save_pdb(\"RMSD_Traj/RMSD_Centroid_%s.pdb\"%count)\n",
    "    count=count+1"
   ]
  }
 ],
 "metadata": {
  "kernelspec": {
   "display_name": "Python 3",
   "language": "python",
   "name": "python3"
  },
  "language_info": {
   "codemirror_mode": {
    "name": "ipython",
    "version": 3
   },
   "file_extension": ".py",
   "mimetype": "text/x-python",
   "name": "python",
   "nbconvert_exporter": "python",
   "pygments_lexer": "ipython3",
   "version": "3.6.6"
  }
 },
 "nbformat": 4,
 "nbformat_minor": 2
}
